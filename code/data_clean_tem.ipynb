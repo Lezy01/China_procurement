{
 "cells": [
  {
   "cell_type": "markdown",
   "id": "7a28c855",
   "metadata": {},
   "source": [
    "# Data cleaning\n",
    "\n",
    "先通过stata生成变量amount，num_goods, price_goods,读入数据，检查基本信息。中国政府采购、公共采购主要分为货物、服务、工程三大类，分别有不同的公开招标金额标准。\n",
    "根据主要标的名称和项目名称中词汇出现的词频，选出top 100关键词，对关键词进行手动分类，排除其中容易出现歧义的部分，比如油，可能是“燃油采购”（货物），也可能是“加油服务”（服务）。对包含关键词的采购项目进行分类，在通过机器学习进行分类。"
   ]
  },
  {
   "cell_type": "markdown",
   "id": "abbbd9c7",
   "metadata": {},
   "source": [
    "Policy：\n",
    "关于印发《地方预算单位政府集中采购目录及标准指引（2020年版）》的通知 （2021年实施）\n",
    "各地应逐步规范集中采购范围，取消市、县级集中采购目录，实现集中采购目录省域范围相对统一，充分发挥集中采购制度优势，不断提升集中采购服务质量和专业水平\n",
    "省级单位政府采购货物、服务项目分散采购限额标准不应低于50万元，市县级单位政府采购货物、服务项目分散采购限额标准不应低于30万元，政府采购工程项目分散采购限额标准不应低于60万元"
   ]
  },
  {
   "cell_type": "code",
   "execution_count": 4,
   "id": "b0942861",
   "metadata": {},
   "outputs": [],
   "source": [
    "import pandas as pd\n",
    "\n",
    "pd.set_option(\"display.max_columns\", None)   \n",
    "pd.set_option(\"display.max_rows\", 100)\n",
    "pd.set_option(\"display.width\", None)     "
   ]
  },
  {
   "cell_type": "code",
   "execution_count": 2,
   "id": "6c97e591",
   "metadata": {},
   "outputs": [],
   "source": [
    "\n",
    "csv_file = \"/Users/yxy/UChi/Summer2025/Procurement/dta/china_procurement_clean1.csv\"\n",
    "\n",
    "df = pd.read_csv(csv_file, low_memory=False)\n"
   ]
  },
  {
   "cell_type": "markdown",
   "id": "cda1b3e2",
   "metadata": {},
   "source": [
    "## Check data"
   ]
  },
  {
   "cell_type": "code",
   "execution_count": 3,
   "id": "410c1bef",
   "metadata": {},
   "outputs": [
    {
     "data": {
      "text/plain": [
       "Index(['合同编号', '项目编号', '项目名称', '采购人甲方', '采购人地址', '采购人联系方式', '供应商乙方', '供应商地址',\n",
       "       '供应商联系方式', '主要标的名称', '规格型号或服务要求', '主要标的数量', '主要标的单价', '合同金额万元',\n",
       "       '履约期限地点等简要信息', '采购方式', '合同签订日期', '合同公告日期', '年份', 'amount', 'num_goods',\n",
       "       'price_goods'],\n",
       "      dtype='object')"
      ]
     },
     "execution_count": 3,
     "metadata": {},
     "output_type": "execute_result"
    }
   ],
   "source": [
    "df.columns"
   ]
  },
  {
   "cell_type": "code",
   "execution_count": 15,
   "id": "f7b20656",
   "metadata": {},
   "outputs": [],
   "source": [
    "df_filtered = df[(df['amount'] >= 50) & (df['amount'] <= 500) & (df['年份'] >= 2020)]"
   ]
  },
  {
   "cell_type": "code",
   "execution_count": 16,
   "id": "c748d6d9",
   "metadata": {},
   "outputs": [
    {
     "data": {
      "text/plain": [
       "(568380, 22)"
      ]
     },
     "execution_count": 16,
     "metadata": {},
     "output_type": "execute_result"
    }
   ],
   "source": [
    "df_filtered.shape"
   ]
  },
  {
   "cell_type": "code",
   "execution_count": 26,
   "id": "bd964a4b",
   "metadata": {},
   "outputs": [
    {
     "data": {
      "text/plain": [
       "年份\n",
       "2023    204080\n",
       "2022    169625\n",
       "2021    115001\n",
       "2020     54029\n",
       "2024     25645\n",
       "Name: count, dtype: int64"
      ]
     },
     "execution_count": 26,
     "metadata": {},
     "output_type": "execute_result"
    }
   ],
   "source": [
    "df_filtered['年份'].value_counts()"
   ]
  },
  {
   "cell_type": "code",
   "execution_count": 25,
   "id": "34b2b1c6",
   "metadata": {},
   "outputs": [
    {
     "data": {
      "text/plain": [
       "count    568380.000000\n",
       "mean        167.217049\n",
       "std         105.774489\n",
       "min          50.000000\n",
       "25%          84.500000\n",
       "50%         134.560000\n",
       "75%         220.000000\n",
       "max         500.000000\n",
       "Name: amount, dtype: float64"
      ]
     },
     "execution_count": 25,
     "metadata": {},
     "output_type": "execute_result"
    }
   ],
   "source": [
    "df_filtered['amount'].describe()"
   ]
  },
  {
   "cell_type": "markdown",
   "id": "2291a672",
   "metadata": {},
   "source": [
    "## Generate training set\n",
    "### top 200 items\n",
    "给出现频率前200的标的物名称手动标注类别，使用了chatgpt+人工检查，对一部分“无”，“详情见合同”，标注了类别notsure"
   ]
  },
  {
   "cell_type": "code",
   "execution_count": 211,
   "id": "e665eb13",
   "metadata": {},
   "outputs": [],
   "source": [
    "out_path_kw = \"/Users/yxy/UChi/Summer2025/Procurement/dta/keywords.csv\""
   ]
  },
  {
   "cell_type": "code",
   "execution_count": 218,
   "id": "7764dd79",
   "metadata": {},
   "outputs": [
    {
     "name": "stdout",
     "output_type": "stream",
     "text": [
      "Top 200 items exported to keywords.csv for manual categorization.\n"
     ]
    }
   ],
   "source": [
    "import pandas as pd\n",
    "out_path_kw = \"/Users/yxy/UChi/Summer2025/Procurement/dta/keywords.csv\"\n",
    "top100_items = df_filtered[\"主要标的名称\"].value_counts().head(200).reset_index()\n",
    "top100_items.columns = [\"keyword\", \"count\"]\n",
    "\n",
    "top100_items[\"category\"] = \"\"\n",
    "\n",
    "top100_items.to_csv(out_path_kw, index=False, encoding=\"utf-8-sig\")\n",
    "\n",
    "print(\"Top 200 items exported to keywords.csv for manual categorization.\")\n"
   ]
  },
  {
   "cell_type": "code",
   "execution_count": 233,
   "id": "284ae0d9",
   "metadata": {},
   "outputs": [],
   "source": [
    "\n",
    "classified = pd.read_csv(out_path_kw)\n",
    "\n",
    "df_filtered = df_filtered.merge(classified[[\"keyword\", \"category\"]], \n",
    "              left_on=\"主要标的名称\", \n",
    "              right_on=\"keyword\", \n",
    "              how=\"left\")\n",
    "\n",
    "df_filtered.rename(columns={\"category\": \"cat\"}, inplace=True)\n",
    "\n",
    "df_filtered.drop(columns=[\"keyword\"], inplace=True)\n",
    "\n"
   ]
  },
  {
   "cell_type": "code",
   "execution_count": 234,
   "id": "3e89b206",
   "metadata": {},
   "outputs": [
    {
     "data": {
      "text/plain": [
       "cat\n",
       "NaN        475544\n",
       "服务          59403\n",
       "notsure     24573\n",
       "货物          21737\n",
       "工程          17656\n",
       "Name: count, dtype: int64"
      ]
     },
     "execution_count": 234,
     "metadata": {},
     "output_type": "execute_result"
    }
   ],
   "source": [
    "df_filtered['cat'].value_counts(dropna=False)"
   ]
  },
  {
   "cell_type": "code",
   "execution_count": null,
   "id": "0a7418b8",
   "metadata": {},
   "outputs": [],
   "source": [
    "df_uncat = df_filtered[df_filtered['cat'].isna() | (df_filtered['cat'] == 'notsure')]\n",
    "print(df_uncat['主要标的名称'].value_counts().iloc[300:350])"
   ]
  },
  {
   "cell_type": "code",
   "execution_count": null,
   "id": "05568638",
   "metadata": {},
   "outputs": [],
   "source": [
    "df_uncat['主要标的名称'].value_counts().head(50)"
   ]
  },
  {
   "cell_type": "markdown",
   "id": "aa628f3c",
   "metadata": {},
   "source": [
    "### top 100 words\n",
    "把还未完成分类的部分，主要标的物名称拆分成词组，选词频前100的词汇，手动标注类别"
   ]
  },
  {
   "cell_type": "code",
   "execution_count": 236,
   "id": "1a85fbf5",
   "metadata": {},
   "outputs": [
    {
     "name": "stdout",
     "output_type": "stream",
     "text": [
      "rows containing top 100 words: 349918\n",
      "cover rate : 73.58%\n"
     ]
    }
   ],
   "source": [
    "import re\n",
    "from collections import Counter\n",
    "\n",
    "df_nacat = df_filtered[df_filtered['cat'].isna()]\n",
    "\n",
    "all_words = []\n",
    "for name in df_nacat[\"主要标的名称\"].astype(str):\n",
    "    words = re.split(r\"[、，,（）() ]\", name)\n",
    "    all_words.extend(words)\n",
    "\n",
    "counter = Counter(all_words)\n",
    "top100 = [w for w, _ in counter.most_common(100) if w.strip() != \"\"]\n",
    "\n",
    "mask = df_nacat[\"主要标的名称\"].astype(str).apply(\n",
    "    lambda x: any(w in x for w in top100)\n",
    ")\n",
    "covered_rows = mask.sum()\n",
    "total_rows = mask.shape[0]\n",
    "\n",
    "print(\"rows containing top 100 words: {}\".format(covered_rows))\n",
    "print(\"cover rate : {:.2f}%\".format(covered_rows / total_rows * 100))\n"
   ]
  },
  {
   "cell_type": "code",
   "execution_count": 237,
   "id": "79ddda02",
   "metadata": {},
   "outputs": [
    {
     "name": "stdout",
     "output_type": "stream",
     "text": [
      "Top 100 words exported to keywords.csv for manual categorization.\n"
     ]
    }
   ],
   "source": [
    "top100_words = counter.most_common(100)\n",
    "top100_words = pd.DataFrame(top100_words, columns=[\"keyword\", \"count\"])\n",
    "top100_words[\"category\"] = \"\"\n",
    "top100_words.to_csv(out_path_kw, mode=\"a\", index=False, header=False, encoding=\"utf-8-sig\")\n",
    "\n",
    "print(\"Top 100 words exported to keywords.csv for manual categorization.\")"
   ]
  },
  {
   "cell_type": "code",
   "execution_count": 242,
   "id": "6d4ce31d",
   "metadata": {},
   "outputs": [
    {
     "name": "stdout",
     "output_type": "stream",
     "text": [
      "cat\n",
      "<NA>       448454\n",
      "服务          61176\n",
      "notsure     43047\n",
      "货物          27644\n",
      "工程          18592\n",
      "Name: count, dtype: int64\n"
     ]
    }
   ],
   "source": [
    "\n",
    "kw_df = pd.read_csv(out_path_kw)\n",
    "\n",
    "mapping = dict(zip(kw_df[\"keyword\"].astype(str), kw_df[\"category\"].astype(str)))\n",
    "\n",
    "def classify_name(name):\n",
    "    if pd.isna(name) or not isinstance(name, str) or name.strip() == \"\":\n",
    "        return pd.NA\n",
    "    \n",
    "    words = re.split(r\"[、，,（）() ]\", name)\n",
    "    categories = set()\n",
    "\n",
    "    for w in words:\n",
    "        if w in mapping:\n",
    "            categories.add(mapping[w])\n",
    "    \n",
    "    if len(categories) == 1:\n",
    "        return categories.pop()\n",
    "    elif len(categories) > 1:\n",
    "        return \"notsure\"\n",
    "    else:\n",
    "        return pd.NA\n",
    "\n",
    "mask = df_filtered[\"cat\"].isna()\n",
    "df_filtered.loc[mask, \"cat\"] = df_filtered.loc[mask, \"主要标的名称\"].apply(classify_name)\n",
    "\n",
    "\n",
    "print(df_filtered[\"cat\"].value_counts(dropna=False))\n"
   ]
  },
  {
   "cell_type": "code",
   "execution_count": 246,
   "id": "e66f7e0e",
   "metadata": {},
   "outputs": [
    {
     "data": {
      "text/plain": [
       "年份\n",
       "2022    43230\n",
       "2023    37938\n",
       "2021    17856\n",
       "2024     5360\n",
       "2020     3016\n",
       "2019        8\n",
       "2016        3\n",
       "2018        1\n",
       "Name: count, dtype: int64"
      ]
     },
     "execution_count": 246,
     "metadata": {},
     "output_type": "execute_result"
    }
   ],
   "source": [
    "valid_cats = [\"货物\", \"工程\", \"服务\"]\n",
    "\n",
    "df_filtered[df_filtered[\"cat\"].isin(valid_cats)][\"年份\"].value_counts()\n",
    "\n"
   ]
  },
  {
   "cell_type": "markdown",
   "id": "1ac50fa0",
   "metadata": {},
   "source": [
    "### 用项目名称分类"
   ]
  },
  {
   "cell_type": "code",
   "execution_count": 253,
   "id": "21bb4d58",
   "metadata": {},
   "outputs": [],
   "source": [
    "invalid_keywords = {\n",
    "    \"详见合同\",\n",
    "    \"详见附件\",\n",
    "    \"无\",\n",
    "    \"1\",\n",
    "    \"详见合同文本。\",\n",
    "    \"无无\",\n",
    "    \"见附件\",\n",
    "    \"详见合同附件\",\n",
    "    \"-\",\n",
    "    \"/\",\n",
    "    \"详见招标文件\",\n",
    "    \"见合同\",\n",
    "    \"1,采购数量1;\",\n",
    "    \"详见附件。\",\n",
    "    \"第一包\",\n",
    "    \"详见中标公告\",\n",
    "    \"见附件合同\",\n",
    "    \"货物交付\"\n",
    "}\n",
    "df_filtered.loc[df['cat'].isin(invalid_keywords), 'cat'] = 'notsure'"
   ]
  },
  {
   "cell_type": "code",
   "execution_count": null,
   "id": "b33d6b8e",
   "metadata": {},
   "outputs": [],
   "source": [
    "import re\n",
    "import pandas as pd\n",
    "from sklearn.feature_extraction.text import TfidfVectorizer\n",
    "from sklearn.linear_model import LogisticRegression\n",
    "\n",
    "\n",
    "train_df = kw_df[kw_df[\"category\"].isin([\"货物\",\"服务\",\"工程\"])]\n",
    "X_train = train_df[\"keyword\"].astype(str)\n",
    "y_train = train_df[\"category\"]\n",
    "\n",
    "vectorizer = TfidfVectorizer(analyzer=\"char\", ngram_range=(1,3))\n",
    "X_train_vec = vectorizer.fit_transform(X_train)\n",
    "\n",
    "clf = LogisticRegression(max_iter=1000)\n",
    "clf.fit(X_train_vec, y_train)\n",
    "\n",
    "def classify_ml(text):\n",
    "    if pd.isna(text) or not isinstance(text, str) or text.strip() == \"\":\n",
    "        return pd.NA\n",
    "    vec = vectorizer.transform([text])\n",
    "    return clf.predict(vec)[0]\n",
    "\n",
    "def classify_row(row):\n",
    "    # 原来已经有明确分类的直接保留\n",
    "    if pd.notna(row[\"cat\"]) and row[\"cat\"] in [\"货物\", \"服务\", \"工程\"]:\n",
    "        return row[\"cat\"]\n",
    "\n",
    "    # 否则尝试重新分类\n",
    "    cat = classify_name(row[\"主要标的名称\"])\n",
    "    if pd.isna(cat) or cat == \"notsure\":\n",
    "        if (isinstance(row[\"主要标的名称\"], str) and row[\"主要标的名称\"] in invalid_keywords) or cat == \"notsure\":\n",
    "            return classify_ml(row[\"项目名称\"])\n",
    "        else:\n",
    "            return pd.NA\n",
    "    else:\n",
    "        return cat\n",
    "\n",
    "\n",
    "df_filtered[\"cat_final\"] = df_filtered.apply(classify_row, axis=1)\n",
    "\n"
   ]
  },
  {
   "cell_type": "code",
   "execution_count": 265,
   "id": "d099e476",
   "metadata": {},
   "outputs": [
    {
     "data": {
      "text/plain": [
       "cat\n",
       "<NA>       448454\n",
       "服务          61176\n",
       "notsure     43047\n",
       "货物          27644\n",
       "工程          18592\n",
       "Name: count, dtype: int64"
      ]
     },
     "execution_count": 265,
     "metadata": {},
     "output_type": "execute_result"
    }
   ],
   "source": [
    "df_filtered['cat'].value_counts(dropna=False)"
   ]
  },
  {
   "cell_type": "code",
   "execution_count": 264,
   "id": "824e59d5",
   "metadata": {},
   "outputs": [
    {
     "data": {
      "text/plain": [
       "cat_final\n",
       "<NA>    452278\n",
       "服务       68105\n",
       "货物       62294\n",
       "工程       16236\n",
       "Name: count, dtype: int64"
      ]
     },
     "execution_count": 264,
     "metadata": {},
     "output_type": "execute_result"
    }
   ],
   "source": [
    "df_filtered['cat_final'].value_counts(dropna=False)"
   ]
  },
  {
   "cell_type": "code",
   "execution_count": null,
   "id": "ea658565",
   "metadata": {},
   "outputs": [],
   "source": [
    "out_path_kw = \"/Users/yxy/UChi/Summer2025/Procurement/dta/keywords.csv\""
   ]
  },
  {
   "cell_type": "code",
   "execution_count": null,
   "id": "d13185cf",
   "metadata": {},
   "outputs": [
    {
     "name": "stdout",
     "output_type": "stream",
     "text": [
      "Top 200 items exported to keywords.csv for manual categorization.\n"
     ]
    }
   ],
   "source": [
    "import pandas as pd\n",
    "out_path_kw = \"/Users/yxy/UChi/Summer2025/Procurement/dta/keywords.csv\"\n",
    "top100_items = df_filtered[\"主要标的名称\"].value_counts().head(200).reset_index()\n",
    "top100_items.columns = [\"keyword\", \"count\"]\n",
    "\n",
    "top100_items[\"category\"] = \"\"\n",
    "\n",
    "top100_items.to_csv(out_path_kw, index=False, encoding=\"utf-8-sig\")\n",
    "\n",
    "print(\"Top 200 items exported to keywords.csv for manual categorization.\")\n"
   ]
  },
  {
   "cell_type": "code",
   "execution_count": null,
   "id": "60f7220f",
   "metadata": {},
   "outputs": [],
   "source": [
    "\n",
    "classified = pd.read_csv(out_path_kw)\n",
    "\n",
    "df_filtered = df_filtered.merge(classified[[\"keyword\", \"category\"]], \n",
    "              left_on=\"主要标的名称\", \n",
    "              right_on=\"keyword\", \n",
    "              how=\"left\")\n",
    "\n",
    "df_filtered.rename(columns={\"category\": \"cat\"}, inplace=True)\n",
    "\n",
    "df_filtered.drop(columns=[\"keyword\"], inplace=True)\n",
    "\n"
   ]
  },
  {
   "cell_type": "code",
   "execution_count": null,
   "id": "f35e0158",
   "metadata": {},
   "outputs": [
    {
     "data": {
      "text/plain": [
       "cat\n",
       "NaN        475544\n",
       "服务          59403\n",
       "notsure     24573\n",
       "货物          21737\n",
       "工程          17656\n",
       "Name: count, dtype: int64"
      ]
     },
     "metadata": {},
     "output_type": "display_data"
    }
   ],
   "source": [
    "df_filtered['cat'].value_counts(dropna=False)"
   ]
  },
  {
   "cell_type": "code",
   "execution_count": null,
   "id": "dbafadda",
   "metadata": {},
   "outputs": [],
   "source": [
    "df_uncat = df_filtered[df_filtered['cat'].isna() | (df_filtered['cat'] == 'notsure')]\n",
    "print(df_uncat['主要标的名称'].value_counts().iloc[300:350])"
   ]
  },
  {
   "cell_type": "code",
   "execution_count": null,
   "id": "2f664e6c",
   "metadata": {},
   "outputs": [],
   "source": [
    "df_uncat['主要标的名称'].value_counts().head(50)"
   ]
  },
  {
   "cell_type": "markdown",
   "id": "0dcea256",
   "metadata": {},
   "source": [
    "### top 100 words\n",
    "把还未完成分类的部分，主要标的物名称拆分成词组，选词频前100的词汇，手动标注类别"
   ]
  },
  {
   "cell_type": "code",
   "execution_count": null,
   "id": "ea029c7e",
   "metadata": {},
   "outputs": [
    {
     "name": "stdout",
     "output_type": "stream",
     "text": [
      "rows containing top 100 words: 349918\n",
      "cover rate : 73.58%\n"
     ]
    }
   ],
   "source": [
    "import re\n",
    "from collections import Counter\n",
    "\n",
    "df_nacat = df_filtered[df_filtered['cat'].isna()]\n",
    "\n",
    "all_words = []\n",
    "for name in df_nacat[\"主要标的名称\"].astype(str):\n",
    "    words = re.split(r\"[、，,（）() ]\", name)\n",
    "    all_words.extend(words)\n",
    "\n",
    "counter = Counter(all_words)\n",
    "top100 = [w for w, _ in counter.most_common(100) if w.strip() != \"\"]\n",
    "\n",
    "mask = df_nacat[\"主要标的名称\"].astype(str).apply(\n",
    "    lambda x: any(w in x for w in top100)\n",
    ")\n",
    "covered_rows = mask.sum()\n",
    "total_rows = mask.shape[0]\n",
    "\n",
    "print(\"rows containing top 100 words: {}\".format(covered_rows))\n",
    "print(\"cover rate : {:.2f}%\".format(covered_rows / total_rows * 100))\n"
   ]
  },
  {
   "cell_type": "code",
   "execution_count": null,
   "id": "f94f254a",
   "metadata": {},
   "outputs": [
    {
     "name": "stdout",
     "output_type": "stream",
     "text": [
      "Top 100 words exported to keywords.csv for manual categorization.\n"
     ]
    }
   ],
   "source": [
    "top100_words = counter.most_common(100)\n",
    "top100_words = pd.DataFrame(top100_words, columns=[\"keyword\", \"count\"])\n",
    "top100_words[\"category\"] = \"\"\n",
    "top100_words.to_csv(out_path_kw, mode=\"a\", index=False, header=False, encoding=\"utf-8-sig\")\n",
    "\n",
    "print(\"Top 100 words exported to keywords.csv for manual categorization.\")"
   ]
  },
  {
   "cell_type": "code",
   "execution_count": null,
   "id": "4f169ffa",
   "metadata": {},
   "outputs": [
    {
     "name": "stdout",
     "output_type": "stream",
     "text": [
      "cat\n",
      "<NA>       448454\n",
      "服务          61176\n",
      "notsure     43047\n",
      "货物          27644\n",
      "工程          18592\n",
      "Name: count, dtype: int64\n"
     ]
    }
   ],
   "source": [
    "\n",
    "kw_df = pd.read_csv(out_path_kw)\n",
    "\n",
    "mapping = dict(zip(kw_df[\"keyword\"].astype(str), kw_df[\"category\"].astype(str)))\n",
    "\n",
    "def classify_name(name):\n",
    "    if pd.isna(name) or not isinstance(name, str) or name.strip() == \"\":\n",
    "        return pd.NA\n",
    "    \n",
    "    words = re.split(r\"[、，,（）() ]\", name)\n",
    "    categories = set()\n",
    "\n",
    "    for w in words:\n",
    "        if w in mapping:\n",
    "            categories.add(mapping[w])\n",
    "    \n",
    "    if len(categories) == 1:\n",
    "        return categories.pop()\n",
    "    elif len(categories) > 1:\n",
    "        return \"notsure\"\n",
    "    else:\n",
    "        return pd.NA\n",
    "\n",
    "mask = df_filtered[\"cat\"].isna()\n",
    "df_filtered.loc[mask, \"cat\"] = df_filtered.loc[mask, \"主要标的名称\"].apply(classify_name)\n",
    "\n",
    "\n",
    "print(df_filtered[\"cat\"].value_counts(dropna=False))\n"
   ]
  },
  {
   "cell_type": "code",
   "execution_count": null,
   "id": "e6f5ad20",
   "metadata": {},
   "outputs": [
    {
     "data": {
      "text/plain": [
       "年份\n",
       "2022    43230\n",
       "2023    37938\n",
       "2021    17856\n",
       "2024     5360\n",
       "2020     3016\n",
       "2019        8\n",
       "2016        3\n",
       "2018        1\n",
       "Name: count, dtype: int64"
      ]
     },
     "metadata": {},
     "output_type": "display_data"
    }
   ],
   "source": [
    "valid_cats = [\"货物\", \"工程\", \"服务\"]\n",
    "\n",
    "df_filtered[df_filtered[\"cat\"].isin(valid_cats)][\"年份\"].value_counts()\n",
    "\n"
   ]
  },
  {
   "cell_type": "markdown",
   "id": "2da58168",
   "metadata": {},
   "source": [
    "### 用项目名称分类"
   ]
  },
  {
   "cell_type": "code",
   "execution_count": null,
   "id": "e5b13d91",
   "metadata": {},
   "outputs": [],
   "source": [
    "invalid_keywords = {\n",
    "    \"详见合同\",\n",
    "    \"详见附件\",\n",
    "    \"无\",\n",
    "    \"1\",\n",
    "    \"详见合同文本。\",\n",
    "    \"无无\",\n",
    "    \"见附件\",\n",
    "    \"详见合同附件\",\n",
    "    \"-\",\n",
    "    \"/\",\n",
    "    \"详见招标文件\",\n",
    "    \"见合同\",\n",
    "    \"1,采购数量1;\",\n",
    "    \"详见附件。\",\n",
    "    \"第一包\",\n",
    "    \"详见中标公告\",\n",
    "    \"见附件合同\",\n",
    "    \"货物交付\"\n",
    "}\n",
    "df_filtered.loc[df['cat'].isin(invalid_keywords), 'cat'] = 'notsure'"
   ]
  },
  {
   "cell_type": "code",
   "execution_count": null,
   "id": "53432563",
   "metadata": {},
   "outputs": [],
   "source": [
    "import re\n",
    "import pandas as pd\n",
    "from sklearn.feature_extraction.text import TfidfVectorizer\n",
    "from sklearn.linear_model import LogisticRegression\n",
    "\n",
    "\n",
    "train_df = kw_df[kw_df[\"category\"].isin([\"货物\",\"服务\",\"工程\"])]\n",
    "X_train = train_df[\"keyword\"].astype(str)\n",
    "y_train = train_df[\"category\"]\n",
    "\n",
    "vectorizer = TfidfVectorizer(analyzer=\"char\", ngram_range=(1,3))\n",
    "X_train_vec = vectorizer.fit_transform(X_train)\n",
    "\n",
    "clf = LogisticRegression(max_iter=1000)\n",
    "clf.fit(X_train_vec, y_train)\n",
    "\n",
    "def classify_ml(text):\n",
    "    if pd.isna(text) or not isinstance(text, str) or text.strip() == \"\":\n",
    "        return pd.NA\n",
    "    vec = vectorizer.transform([text])\n",
    "    return clf.predict(vec)[0]\n",
    "\n",
    "def classify_row(row):\n",
    "    # 原来已经有明确分类的直接保留\n",
    "    if pd.notna(row[\"cat\"]) and row[\"cat\"] in [\"货物\", \"服务\", \"工程\"]:\n",
    "        return row[\"cat\"]\n",
    "\n",
    "    # 否则尝试重新分类\n",
    "    cat = classify_name(row[\"主要标的名称\"])\n",
    "    if pd.isna(cat) or cat == \"notsure\":\n",
    "        if (isinstance(row[\"主要标的名称\"], str) and row[\"主要标的名称\"] in invalid_keywords) or cat == \"notsure\":\n",
    "            return classify_ml(row[\"项目名称\"])\n",
    "        else:\n",
    "            return pd.NA\n",
    "    else:\n",
    "        return cat\n",
    "\n",
    "\n",
    "df_filtered[\"cat_final\"] = df_filtered.apply(classify_row, axis=1)\n",
    "\n"
   ]
  },
  {
   "cell_type": "code",
   "execution_count": null,
   "id": "0f0597c2",
   "metadata": {},
   "outputs": [
    {
     "data": {
      "text/plain": [
       "cat\n",
       "<NA>       448454\n",
       "服务          61176\n",
       "notsure     43047\n",
       "货物          27644\n",
       "工程          18592\n",
       "Name: count, dtype: int64"
      ]
     },
     "metadata": {},
     "output_type": "display_data"
    }
   ],
   "source": [
    "df_filtered['cat'].value_counts(dropna=False)"
   ]
  },
  {
   "cell_type": "code",
   "execution_count": null,
   "id": "6eeefb42",
   "metadata": {},
   "outputs": [
    {
     "data": {
      "text/plain": [
       "cat_final\n",
       "<NA>    452278\n",
       "服务       68105\n",
       "货物       62294\n",
       "工程       16236\n",
       "Name: count, dtype: int64"
      ]
     },
     "metadata": {},
     "output_type": "display_data"
    }
   ],
   "source": [
    "df_filtered['cat_final'].value_counts(dropna=False)"
   ]
  },
  {
   "cell_type": "markdown",
   "id": "53479673",
   "metadata": {},
   "source": [
    "## 确定省份"
   ]
  },
  {
   "cell_type": "code",
   "execution_count": 5,
   "id": "1e45079e",
   "metadata": {},
   "outputs": [
    {
     "data": {
      "text/plain": [
       "Index(['地名', '区划码', '县级', '县级码', '县级类', '地级', '地级码', '地级类', '省级', '省级码', '省级类',\n",
       "       '曾用名', '备注', 'ENG_NAME', 'VAR_NAME', 'code', 'NAME_3', 'VAR_NAME3',\n",
       "       'GID_3', 'TYPE_3', 'NAME_2', 'VAR_NAME2', 'GID_2', 'TYPE_2', 'NAME_1',\n",
       "       'VAR_NAME1', 'GID_1', 'TYPE_1', 'year', 'geometry'],\n",
       "      dtype='object')"
      ]
     },
     "execution_count": 5,
     "metadata": {},
     "output_type": "execute_result"
    }
   ],
   "source": [
    "import geopandas as gpd\n",
    "\n",
    "shp_path = \"/Users/yxy/UChi/Summer2025/Procurement/raw/Countylevel_Admin_2020/China2020County.shp\"\n",
    "gdf = gpd.read_file(shp_path)\n",
    "\n",
    "gdf.columns\n"
   ]
  },
  {
   "cell_type": "code",
   "execution_count": 23,
   "id": "9df73acf",
   "metadata": {},
   "outputs": [
    {
     "data": {
      "text/plain": [
       "(2857, 30)"
      ]
     },
     "execution_count": 23,
     "metadata": {},
     "output_type": "execute_result"
    }
   ],
   "source": [
    "gdf.shape"
   ]
  },
  {
   "cell_type": "code",
   "execution_count": 6,
   "id": "547231f1",
   "metadata": {},
   "outputs": [],
   "source": [
    "gdf = gdf[['省级', '地级', '县级']]"
   ]
  },
  {
   "cell_type": "code",
   "execution_count": 7,
   "id": "80a6779c",
   "metadata": {},
   "outputs": [
    {
     "name": "stdout",
     "output_type": "stream",
     "text": [
      "南沙区横沥镇明珠湾起步区横沥岛西侧 -> (None, None, '南沙区')\n",
      "稀土高新区区属中小学校幼儿园校舍消防安全评估 -> (None, None, '稀土高新区')\n",
      "土默特左旗 -> (None, None, '土默特左旗')\n",
      "北京市朝阳区 -> ('北京市', None, '朝阳区')\n",
      "天津市 -> ('天津市', None, None)\n",
      "1 -> (None, None, None)\n",
      "石家庄市长安区 -> (None, '石家庄市', '长安区')\n",
      "兰州市市政工程服务中心 -> (None, '兰州市', None)\n",
      "广东省-佛山市-禅城区广东省佛山市禅城区汾江中路139号 -> ('广东省', '-佛山市', '-禅城区')\n",
      "广州市越秀区广州大道中367号B26G -> (None, '广州市', '越秀区')\n"
     ]
    }
   ],
   "source": [
    "import re\n",
    "def extract_prov_city_county(text: str):\n",
    "    if not isinstance(text, str):  \n",
    "        return None, None, None\n",
    "    text = re.sub(r\"[-_\\s·、，,\\.]()（）*。\", \"\", text) \n",
    "    # text = re.sub(r\"[^\\u4e00-\\u9fa5]\", \"\", text)\n",
    "\n",
    "    prov_pattern = r\"(.*?(省|自治区|市))\"    \n",
    "    city_pattern = r\"(.*?(市|地区|盟|州))\"  \n",
    "    county_pattern = r\"(.*?(县|区|旗))\"     \n",
    "    \n",
    "    prov, city, county = None, None, None\n",
    "    municipalities = [\"北京市\",\"天津市\",\"上海市\",\"重庆市\"]\n",
    "\n",
    "    prov_match = re.match(prov_pattern, text)\n",
    "    if prov_match:\n",
    "        if '市' in prov_match.group(1) and prov_match.group(1) not in municipalities:\n",
    "            prov = None\n",
    "        else: \n",
    "            prov = prov_match.group(1)\n",
    "            text = text[len(prov):]\n",
    "    city_match = re.match(city_pattern, text)\n",
    "    if city_match:\n",
    "        city_candidate = city_match.group(1)\n",
    "        if city_candidate.endswith(\"州\") and text.startswith(\"市\", len(city_candidate)):\n",
    "            city = city_candidate + \"市\"\n",
    "            text = text[len(city_candidate) + 1:] \n",
    "        else:\n",
    "            city = city_candidate\n",
    "            text = text[len(city):]\n",
    "        \n",
    "    county_match = re.match(county_pattern, text)\n",
    "    if county_match:\n",
    "        county = county_match.group(1)\n",
    "\n",
    "    return prov, city, county\n",
    "\n",
    "examples = [\n",
    "    \"南沙区横沥镇明珠湾起步区横沥岛西侧\",\n",
    "    \"稀土高新区区属中小学校幼儿园校舍消防安全评估\",\n",
    "    \"土默特左旗\",\n",
    "    \"北京市朝阳区\",\n",
    "    \"天津市\",\n",
    "    1,\n",
    "    \"石家庄市长安区\",\n",
    "    \"兰州市市政工程服务中心\",\n",
    "    \"广东省-佛山市-禅城区广东省佛山市禅城区汾江中路139号\",\n",
    "    \"广州市越秀区广州大道中367号B26G\"\n",
    "]\n",
    "\n",
    "for ex in examples:\n",
    "    print(ex, \"->\", extract_prov_city_county(ex))\n",
    "\n"
   ]
  },
  {
   "cell_type": "code",
   "execution_count": null,
   "id": "a28b7826",
   "metadata": {},
   "outputs": [],
   "source": [
    "df_sampled = df_filtered.sample(10,random_state=42)\n",
    "df_sampled"
   ]
  },
  {
   "cell_type": "code",
   "execution_count": 88,
   "id": "9db4323c",
   "metadata": {},
   "outputs": [
    {
     "name": "stderr",
     "output_type": "stream",
     "text": [
      "/var/folders/4g/6_8lhyp147394q93651p5kyw0000gn/T/ipykernel_62131/1493521595.py:23: SettingWithCopyWarning: \n",
      "A value is trying to be set on a copy of a slice from a DataFrame.\n",
      "Try using .loc[row_indexer,col_indexer] = value instead\n",
      "\n",
      "See the caveats in the documentation: https://pandas.pydata.org/pandas-docs/stable/user_guide/indexing.html#returning-a-view-versus-a-copy\n",
      "  df_filtered[[\"prov\", \"city\", \"county\"]] = df_filtered.apply(fill_location, axis=1)\n"
     ]
    }
   ],
   "source": [
    "\n",
    "def fill_location(row):\n",
    "    prov, city, county = None, None, None\n",
    "\n",
    "    p1, c1, ct1 = extract_prov_city_county(row[\"采购人地址\"])\n",
    "    prov, city, county = p1, c1, ct1\n",
    "\n",
    "    if prov is None or city is None or county is None:\n",
    "        p2, c2, ct2 = extract_prov_city_county(row[\"采购人甲方\"])\n",
    "        if prov is None: prov = p2\n",
    "        if city is None: city = c2\n",
    "        if county is None: county = ct2\n",
    "\n",
    "    if prov is None or city is None or county is None:\n",
    "        p3, c3, ct3 = extract_prov_city_county(row[\"项目名称\"])\n",
    "        if prov is None: prov = p3\n",
    "        if city is None: city = c3\n",
    "        if county is None: county = ct3\n",
    "\n",
    "    return pd.Series([prov, city, county])\n",
    "\n",
    "\n",
    "\n",
    "df_filtered[[\"prov\", \"city\", \"county\"]] = df_filtered.apply(fill_location, axis=1)"
   ]
  },
  {
   "cell_type": "code",
   "execution_count": null,
   "id": "4df1d5de",
   "metadata": {},
   "outputs": [],
   "source": [
    "df_filtered.sample(5)"
   ]
  },
  {
   "cell_type": "code",
   "execution_count": 102,
   "id": "38387abd",
   "metadata": {},
   "outputs": [
    {
     "name": "stderr",
     "output_type": "stream",
     "text": [
      "/var/folders/4g/6_8lhyp147394q93651p5kyw0000gn/T/ipykernel_62131/3366437189.py:22: SettingWithCopyWarning: \n",
      "A value is trying to be set on a copy of a slice from a DataFrame.\n",
      "Try using .loc[row_indexer,col_indexer] = value instead\n",
      "\n",
      "See the caveats in the documentation: https://pandas.pydata.org/pandas-docs/stable/user_guide/indexing.html#returning-a-view-versus-a-copy\n",
      "  df_filtered[\"region\"] = df_filtered.apply(lambda x: match_region(x, gdf), axis=1)\n"
     ]
    }
   ],
   "source": [
    "def match_region(row, gdf):\n",
    "    if row[\"prov\"]:\n",
    "        match = gdf[gdf[\"省级\"] == row[\"prov\"]]\n",
    "        if not match.empty:\n",
    "            return match[\"省级\"].iloc[0]\n",
    "    if row[\"city\"]:\n",
    "        match = gdf[gdf[\"地级\"].str.contains(str(row[\"city\"]).replace(\"市\",\"\"), na=False, regex=False)]\n",
    "        if not match.empty:\n",
    "            return match[\"省级\"].iloc[0]\n",
    "        match = gdf[gdf[\"县级\"].str.contains(str(row[\"city\"]).replace(\"市\",\"\"), na=False, regex=False)]\n",
    "        if not match.empty:\n",
    "            return match[\"省级\"].iloc[0]\n",
    "    if row[\"county\"]:\n",
    "        match = gdf[gdf[\"县级\"] == row[\"county\"]]\n",
    "        if not match.empty:\n",
    "            return match[\"省级\"].iloc[0]\n",
    "\n",
    "    return None\n",
    "\n",
    "\n",
    "\n",
    "df_filtered[\"region\"] = df_filtered.apply(lambda x: match_region(x, gdf), axis=1)\n"
   ]
  },
  {
   "cell_type": "code",
   "execution_count": 114,
   "id": "2a024fed",
   "metadata": {},
   "outputs": [],
   "source": [
    "df_filtered.to_csv(\"/Users/yxy/UChi/Summer2025/Procurement/dta/china_procurement_region.csv\", index=False, encoding=\"utf-8-sig\")"
   ]
  },
  {
   "cell_type": "code",
   "execution_count": 8,
   "id": "1374df29",
   "metadata": {},
   "outputs": [],
   "source": [
    "df_filtered = pd.read_csv(\"/Users/yxy/UChi/Summer2025/Procurement/dta/china_procurement_region.csv\", low_memory=False)"
   ]
  },
  {
   "cell_type": "code",
   "execution_count": 9,
   "id": "bf9596e1",
   "metadata": {},
   "outputs": [
    {
     "data": {
      "text/plain": [
       "region\n",
       "广东省         103265\n",
       "河北省          98872\n",
       "四川省          63229\n",
       "NaN          40601\n",
       "甘肃省          35541\n",
       "北京市          33474\n",
       "内蒙古自治区       29781\n",
       "陕西省          24342\n",
       "宁夏回族自治区      17988\n",
       "辽宁省          17254\n",
       "福建省          15739\n",
       "黑龙江省         15019\n",
       "贵州省          14011\n",
       "江苏省          10076\n",
       "海南省           8738\n",
       "上海市           4242\n",
       "山东省           4074\n",
       "云南省           3999\n",
       "重庆市           3823\n",
       "吉林省           3496\n",
       "湖北省           3311\n",
       "江西省           3157\n",
       "浙江省           2180\n",
       "天津市           2172\n",
       "安徽省           2089\n",
       "湖南省           1918\n",
       "河南省           1530\n",
       "广西壮族自治区       1343\n",
       "新疆维吾尔自治区      1127\n",
       "山西省            867\n",
       "西藏自治区          689\n",
       "青海省            433\n",
       "Name: count, dtype: int64"
      ]
     },
     "execution_count": 9,
     "metadata": {},
     "output_type": "execute_result"
    }
   ],
   "source": [
    "df_filtered['region'].value_counts(dropna=False)"
   ]
  },
  {
   "cell_type": "code",
   "execution_count": 16,
   "id": "c3ad5074",
   "metadata": {},
   "outputs": [
    {
     "data": {
      "text/html": [
       "<div>\n",
       "<style scoped>\n",
       "    .dataframe tbody tr th:only-of-type {\n",
       "        vertical-align: middle;\n",
       "    }\n",
       "\n",
       "    .dataframe tbody tr th {\n",
       "        vertical-align: top;\n",
       "    }\n",
       "\n",
       "    .dataframe thead th {\n",
       "        text-align: right;\n",
       "    }\n",
       "</style>\n",
       "<table border=\"1\" class=\"dataframe\">\n",
       "  <thead>\n",
       "    <tr style=\"text-align: right;\">\n",
       "      <th></th>\n",
       "      <th>合同编号</th>\n",
       "      <th>项目编号</th>\n",
       "      <th>项目名称</th>\n",
       "      <th>采购人甲方</th>\n",
       "      <th>采购人地址</th>\n",
       "      <th>采购人联系方式</th>\n",
       "      <th>供应商乙方</th>\n",
       "      <th>供应商地址</th>\n",
       "      <th>供应商联系方式</th>\n",
       "      <th>主要标的名称</th>\n",
       "      <th>规格型号或服务要求</th>\n",
       "      <th>主要标的数量</th>\n",
       "      <th>主要标的单价</th>\n",
       "      <th>合同金额万元</th>\n",
       "      <th>履约期限地点等简要信息</th>\n",
       "      <th>采购方式</th>\n",
       "      <th>合同签订日期</th>\n",
       "      <th>合同公告日期</th>\n",
       "      <th>年份</th>\n",
       "      <th>amount</th>\n",
       "      <th>num_goods</th>\n",
       "      <th>price_goods</th>\n",
       "      <th>prov</th>\n",
       "      <th>city</th>\n",
       "      <th>county</th>\n",
       "      <th>region</th>\n",
       "    </tr>\n",
       "  </thead>\n",
       "  <tbody>\n",
       "    <tr>\n",
       "      <th>191735</th>\n",
       "      <td>HW20230275</td>\n",
       "      <td>ZKQ2023-020403093ZF（H）</td>\n",
       "      <td>武汉大学学生宿舍实木靠背椅采购项目</td>\n",
       "      <td>武汉大学</td>\n",
       "      <td>武汉大学</td>\n",
       "      <td>027-68754597</td>\n",
       "      <td>江西宏辉实业有限公司</td>\n",
       "      <td>江西省抚州市南城县株良镇</td>\n",
       "      <td>17607948819</td>\n",
       "      <td>学生宿舍实木靠背椅</td>\n",
       "      <td>型号YH-01 规格440×460×850mm</td>\n",
       "      <td>1套</td>\n",
       "      <td>896000</td>\n",
       "      <td>89.600000</td>\n",
       "      <td>武汉</td>\n",
       "      <td>公开招标</td>\n",
       "      <td>2023-04-06</td>\n",
       "      <td>2023-04-23</td>\n",
       "      <td>2023</td>\n",
       "      <td>89.599998</td>\n",
       "      <td>NaN</td>\n",
       "      <td>896000.0</td>\n",
       "      <td>NaN</td>\n",
       "      <td>NaN</td>\n",
       "      <td>NaN</td>\n",
       "      <td>None</td>\n",
       "    </tr>\n",
       "    <tr>\n",
       "      <th>41495</th>\n",
       "      <td>gyc2021-0151</td>\n",
       "      <td>SDSM2021-3183</td>\n",
       "      <td>山东大学齐鲁医院超声心动图信息系统升级项目</td>\n",
       "      <td>山东大学齐鲁医院</td>\n",
       "      <td>济南文化西路107号</td>\n",
       "      <td>0531-82169126</td>\n",
       "      <td>山东玺诺信息技术有限公司</td>\n",
       "      <td>山东济南华强国际A栋901</td>\n",
       "      <td>山东玺诺信息技术有限公司</td>\n",
       "      <td>美迪康医学影像管理系统</td>\n",
       "      <td>美迪康</td>\n",
       "      <td>1</td>\n",
       "      <td>644500</td>\n",
       "      <td>64.450000</td>\n",
       "      <td>山东大学齐鲁医院</td>\n",
       "      <td>公开招标</td>\n",
       "      <td>2021-04-12</td>\n",
       "      <td>2021-06-28</td>\n",
       "      <td>2021</td>\n",
       "      <td>64.449997</td>\n",
       "      <td>1.0</td>\n",
       "      <td>644500.0</td>\n",
       "      <td>NaN</td>\n",
       "      <td>NaN</td>\n",
       "      <td>NaN</td>\n",
       "      <td>None</td>\n",
       "    </tr>\n",
       "    <tr>\n",
       "      <th>566823</th>\n",
       "      <td>HiGT0250-GDS-CO020</td>\n",
       "      <td>4008830171695698322219</td>\n",
       "      <td>高效低碳燃气轮机试验装置国家重大科技基础设施项目-高效新型循环试验台天然气调压站</td>\n",
       "      <td>中国科学院工程热物理研究所</td>\n",
       "      <td>北四环西路11号</td>\n",
       "      <td>13681033652</td>\n",
       "      <td>天津市华旭燃气设备制造厂</td>\n",
       "      <td>天津市北辰区高端装备制造产业园兴河路12号</td>\n",
       "      <td>022-26995310</td>\n",
       "      <td>天然气调压站</td>\n",
       "      <td>/</td>\n",
       "      <td>1</td>\n",
       "      <td>1690000.00</td>\n",
       "      <td>169.000000</td>\n",
       "      <td>江苏连云港，交货进度90天。</td>\n",
       "      <td>竞争性磋商</td>\n",
       "      <td>2023-12-22</td>\n",
       "      <td>2024-01-15</td>\n",
       "      <td>2024</td>\n",
       "      <td>169.000000</td>\n",
       "      <td>1.0</td>\n",
       "      <td>1690000.0</td>\n",
       "      <td>NaN</td>\n",
       "      <td>NaN</td>\n",
       "      <td>NaN</td>\n",
       "      <td>None</td>\n",
       "    </tr>\n",
       "    <tr>\n",
       "      <th>168683</th>\n",
       "      <td>N5109232022000165-1</td>\n",
       "      <td>N5109232022000165</td>\n",
       "      <td>“无差别综合窗口‘省内通办’试点”建设采购项目(二次)</td>\n",
       "      <td>大英县行政审批局</td>\n",
       "      <td>大县天星大道行政服务大楼</td>\n",
       "      <td>13778705912</td>\n",
       "      <td>中国广电四川网络股份有限公司大英县分公司</td>\n",
       "      <td>大英县卓筒大道5号</td>\n",
       "      <td>19218119677</td>\n",
       "      <td>“无差别综合窗口‘省内通办’试点”建设</td>\n",
       "      <td>详见合同</td>\n",
       "      <td>1.0000项</td>\n",
       "      <td>1278000.000000元</td>\n",
       "      <td>127.800000</td>\n",
       "      <td>大英县行政审批局</td>\n",
       "      <td>竞争性磋商</td>\n",
       "      <td>2023-01-03</td>\n",
       "      <td>2023-01-10</td>\n",
       "      <td>2023</td>\n",
       "      <td>127.800000</td>\n",
       "      <td>NaN</td>\n",
       "      <td>NaN</td>\n",
       "      <td>“无差别综合窗口‘省</td>\n",
       "      <td>NaN</td>\n",
       "      <td>大县</td>\n",
       "      <td>None</td>\n",
       "    </tr>\n",
       "    <tr>\n",
       "      <th>559628</th>\n",
       "      <td>HT202306050</td>\n",
       "      <td>SDJDHD20230647-Z407</td>\n",
       "      <td>山东大学全合成生物筛选平台采购项目</td>\n",
       "      <td>山东大学</td>\n",
       "      <td>山东大学中心校区明德楼</td>\n",
       "      <td>0531-88365560</td>\n",
       "      <td>上海山里宏生物科技有限公司</td>\n",
       "      <td>上海市奉贤区奉金路559号2幢</td>\n",
       "      <td>18785762349</td>\n",
       "      <td>全合成生物筛选平台</td>\n",
       "      <td>Molecular Devices 等</td>\n",
       "      <td>1套</td>\n",
       "      <td>399999.00美元</td>\n",
       "      <td>286.399284</td>\n",
       "      <td>详见附件</td>\n",
       "      <td>公开招标</td>\n",
       "      <td>2024-01-02</td>\n",
       "      <td>2024-01-18</td>\n",
       "      <td>2024</td>\n",
       "      <td>286.399290</td>\n",
       "      <td>NaN</td>\n",
       "      <td>NaN</td>\n",
       "      <td>NaN</td>\n",
       "      <td>NaN</td>\n",
       "      <td>山东大学中心校区</td>\n",
       "      <td>None</td>\n",
       "    </tr>\n",
       "  </tbody>\n",
       "</table>\n",
       "</div>"
      ],
      "text/plain": [
       "                       合同编号                    项目编号  \\\n",
       "191735           HW20230275  ZKQ2023-020403093ZF（H）   \n",
       "41495          gyc2021-0151           SDSM2021-3183   \n",
       "566823   HiGT0250-GDS-CO020  4008830171695698322219   \n",
       "168683  N5109232022000165-1       N5109232022000165   \n",
       "559628          HT202306050     SDJDHD20230647-Z407   \n",
       "\n",
       "                                            项目名称          采购人甲方         采购人地址  \\\n",
       "191735                         武汉大学学生宿舍实木靠背椅采购项目           武汉大学          武汉大学   \n",
       "41495                      山东大学齐鲁医院超声心动图信息系统升级项目       山东大学齐鲁医院    济南文化西路107号   \n",
       "566823  高效低碳燃气轮机试验装置国家重大科技基础设施项目-高效新型循环试验台天然气调压站  中国科学院工程热物理研究所      北四环西路11号   \n",
       "168683               “无差别综合窗口‘省内通办’试点”建设采购项目(二次)       大英县行政审批局  大县天星大道行政服务大楼   \n",
       "559628                         山东大学全合成生物筛选平台采购项目           山东大学   山东大学中心校区明德楼   \n",
       "\n",
       "              采购人联系方式                 供应商乙方                  供应商地址  \\\n",
       "191735   027-68754597            江西宏辉实业有限公司           江西省抚州市南城县株良镇   \n",
       "41495   0531-82169126          山东玺诺信息技术有限公司          山东济南华强国际A栋901   \n",
       "566823    13681033652          天津市华旭燃气设备制造厂  天津市北辰区高端装备制造产业园兴河路12号   \n",
       "168683    13778705912  中国广电四川网络股份有限公司大英县分公司              大英县卓筒大道5号   \n",
       "559628  0531-88365560         上海山里宏生物科技有限公司        上海市奉贤区奉金路559号2幢   \n",
       "\n",
       "             供应商联系方式               主要标的名称                规格型号或服务要求   主要标的数量  \\\n",
       "191735   17607948819            学生宿舍实木靠背椅  型号YH-01 规格440×460×850mm       1套   \n",
       "41495   山东玺诺信息技术有限公司          美迪康医学影像管理系统                      美迪康        1   \n",
       "566823  022-26995310               天然气调压站                        /        1   \n",
       "168683   19218119677  “无差别综合窗口‘省内通办’试点”建设                     详见合同  1.0000项   \n",
       "559628   18785762349            全合成生物筛选平台      Molecular Devices 等       1套   \n",
       "\n",
       "                 主要标的单价      合同金额万元     履约期限地点等简要信息   采购方式      合同签订日期  \\\n",
       "191735           896000   89.600000              武汉   公开招标  2023-04-06   \n",
       "41495            644500   64.450000        山东大学齐鲁医院   公开招标  2021-04-12   \n",
       "566823       1690000.00  169.000000  江苏连云港，交货进度90天。  竞争性磋商  2023-12-22   \n",
       "168683  1278000.000000元  127.800000        大英县行政审批局  竞争性磋商  2023-01-03   \n",
       "559628      399999.00美元  286.399284            详见附件   公开招标  2024-01-02   \n",
       "\n",
       "            合同公告日期    年份      amount  num_goods  price_goods        prov city  \\\n",
       "191735  2023-04-23  2023   89.599998        NaN     896000.0         NaN  NaN   \n",
       "41495   2021-06-28  2021   64.449997        1.0     644500.0         NaN  NaN   \n",
       "566823  2024-01-15  2024  169.000000        1.0    1690000.0         NaN  NaN   \n",
       "168683  2023-01-10  2023  127.800000        NaN          NaN  “无差别综合窗口‘省  NaN   \n",
       "559628  2024-01-18  2024  286.399290        NaN          NaN         NaN  NaN   \n",
       "\n",
       "          county region  \n",
       "191735       NaN   None  \n",
       "41495        NaN   None  \n",
       "566823       NaN   None  \n",
       "168683        大县   None  \n",
       "559628  山东大学中心校区   None  "
      ]
     },
     "execution_count": 16,
     "metadata": {},
     "output_type": "execute_result"
    }
   ],
   "source": [
    "df_unmatched = df_filtered[df_filtered['region'].isna()]\n",
    "df_unmatched.sample(5)"
   ]
  },
  {
   "cell_type": "markdown",
   "id": "c0c779a2",
   "metadata": {},
   "source": [
    "### use jieba to cut rows that are not matched"
   ]
  },
  {
   "cell_type": "code",
   "execution_count": 11,
   "id": "b1b57453",
   "metadata": {},
   "outputs": [],
   "source": [
    "import jieba\n",
    "\n",
    "def match_region_by_jieba(row, gdf):\n",
    "    fields = [\"采购人地址\", \"采购人甲方\", \"项目名称\"]\n",
    "\n",
    "    for field in fields:\n",
    "        text = row.get(field, \"\")\n",
    "        if not isinstance(text, str) or text.strip() == \"\":\n",
    "            continue\n",
    "\n",
    "        words = jieba.lcut(text)\n",
    "        if not words:\n",
    "            continue\n",
    "        first_word = words[0]\n",
    "\n",
    "        match = gdf[gdf[\"省级\"].str.contains(first_word, na=False, regex=False)]\n",
    "        if not match.empty:\n",
    "            return match[\"省级\"].iloc[0]\n",
    "\n",
    "    return None"
   ]
  },
  {
   "cell_type": "code",
   "execution_count": 12,
   "id": "16626f48",
   "metadata": {},
   "outputs": [
    {
     "name": "stderr",
     "output_type": "stream",
     "text": [
      "Building prefix dict from the default dictionary ...\n",
      "Loading model from cache /var/folders/4g/6_8lhyp147394q93651p5kyw0000gn/T/jieba.cache\n",
      "Loading model cost 0.375 seconds.\n",
      "Prefix dict has been built successfully.\n"
     ]
    }
   ],
   "source": [
    "mask = df_filtered[\"region\"].isna()\n",
    "df_filtered.loc[mask, \"region\"] = df_filtered[mask].apply(\n",
    "    lambda x: match_region_by_jieba(x, gdf), axis=1\n",
    ")\n"
   ]
  },
  {
   "cell_type": "code",
   "execution_count": null,
   "id": "d1677ffe",
   "metadata": {},
   "outputs": [],
   "source": [
    "df_filtered = df_filtered[\n",
    "    ~df_filtered[\"region\"].isin([\"澳门特别行政区\", \"台湾省\"])\n",
    "]\n",
    "\n",
    "df_filtered['region'].value_counts(dropna=False)"
   ]
  },
  {
   "cell_type": "markdown",
   "id": "44ea5bab",
   "metadata": {},
   "source": [
    "### test"
   ]
  },
  {
   "cell_type": "markdown",
   "id": "f5f81a49",
   "metadata": {},
   "source": [
    "# test code"
   ]
  },
  {
   "cell_type": "code",
   "execution_count": 239,
   "id": "20fbc51f",
   "metadata": {},
   "outputs": [
    {
     "data": {
      "text/html": [
       "<div>\n",
       "<style scoped>\n",
       "    .dataframe tbody tr th:only-of-type {\n",
       "        vertical-align: middle;\n",
       "    }\n",
       "\n",
       "    .dataframe tbody tr th {\n",
       "        vertical-align: top;\n",
       "    }\n",
       "\n",
       "    .dataframe thead th {\n",
       "        text-align: right;\n",
       "    }\n",
       "</style>\n",
       "<table border=\"1\" class=\"dataframe\">\n",
       "  <thead>\n",
       "    <tr style=\"text-align: right;\">\n",
       "      <th></th>\n",
       "      <th>项目名称</th>\n",
       "      <th>主要标的名称</th>\n",
       "      <th>合同金额万元</th>\n",
       "    </tr>\n",
       "  </thead>\n",
       "  <tbody>\n",
       "    <tr>\n",
       "      <th>12</th>\n",
       "      <td>江苏省消防救援总队2023年度全省器材（第二批）采购项目</td>\n",
       "      <td>江苏省消防救援总队2023年全省器材（第二批）</td>\n",
       "      <td>0.453900</td>\n",
       "    </tr>\n",
       "    <tr>\n",
       "      <th>25</th>\n",
       "      <td>2023年公用基础设施建设工程</td>\n",
       "      <td>公用基础设施建设项目EPC 总承包</td>\n",
       "      <td>937.250000</td>\n",
       "    </tr>\n",
       "    <tr>\n",
       "      <th>28</th>\n",
       "      <td>成都市天府新区消防救援大队2023年伙食物资保障及配送服务项目</td>\n",
       "      <td>2023年伙食物资保障及配送服务项目</td>\n",
       "      <td>328.590000</td>\n",
       "    </tr>\n",
       "    <tr>\n",
       "      <th>33</th>\n",
       "      <td>白山市森林消防支队长白山池南区大队迁建营区配套设施建设项目</td>\n",
       "      <td>吉林省森林消防总队白山市支队长白山池南区大队迁建营区配套设施项目</td>\n",
       "      <td>225.000000</td>\n",
       "    </tr>\n",
       "    <tr>\n",
       "      <th>99</th>\n",
       "      <td>江苏省消防救援总队2023年度全省器材（第二批）采购项目</td>\n",
       "      <td>江苏省消防救援总队2023年全省器材（第二批）</td>\n",
       "      <td>4.200000</td>\n",
       "    </tr>\n",
       "    <tr>\n",
       "      <th>103</th>\n",
       "      <td>北京林业大学学7、10号楼部分电梯采购安装项目</td>\n",
       "      <td>学7、10号楼部分电梯采购安装项目</td>\n",
       "      <td>187.520000</td>\n",
       "    </tr>\n",
       "    <tr>\n",
       "      <th>203</th>\n",
       "      <td>第七次全国荒漠化和沙化调查技术准备</td>\n",
       "      <td>荒漠化石漠化等调查管理项目</td>\n",
       "      <td>180.000000</td>\n",
       "    </tr>\n",
       "    <tr>\n",
       "      <th>242</th>\n",
       "      <td>天津市消防救援总队2023年常规消耗性器材第二批部门集中采购项目（高新支队）</td>\n",
       "      <td>常规消耗性器材（高新第二批第8包）</td>\n",
       "      <td>18.000000</td>\n",
       "    </tr>\n",
       "    <tr>\n",
       "      <th>248</th>\n",
       "      <td>云南复杂地形下精细化温度预报产品研发</td>\n",
       "      <td>云南复杂地形下精细化温度预报产品研发项目</td>\n",
       "      <td>44.800000</td>\n",
       "    </tr>\n",
       "    <tr>\n",
       "      <th>277</th>\n",
       "      <td>一张图综合决策移动APP建设</td>\n",
       "      <td>一张图综合决策移动APP建设项目</td>\n",
       "      <td>179.000000</td>\n",
       "    </tr>\n",
       "    <tr>\n",
       "      <th>294</th>\n",
       "      <td>江苏省消防救援总队2023年度全省器材（第二批）采购项目</td>\n",
       "      <td>江苏省消防救援总队2023年全省器材（第二批）</td>\n",
       "      <td>1.800000</td>\n",
       "    </tr>\n",
       "    <tr>\n",
       "      <th>302</th>\n",
       "      <td>天津消防救援总队高新支队2023年度专职消防员被装部门集中采购项目</td>\n",
       "      <td>国家消防救援局(东区)2023年度消防被装部门集中采购项目(第一批次) 第5包</td>\n",
       "      <td>0.952000</td>\n",
       "    </tr>\n",
       "    <tr>\n",
       "      <th>315</th>\n",
       "      <td>未来材料创制中心第二批实验家具</td>\n",
       "      <td>未来材料创制中心第二批实验家具</td>\n",
       "      <td>205.557470</td>\n",
       "    </tr>\n",
       "    <tr>\n",
       "      <th>344</th>\n",
       "      <td>哈尔滨工业大学中俄联合校园A区锅炉房改造项目</td>\n",
       "      <td>中俄联合校园A区锅炉房改造项目</td>\n",
       "      <td>835.653228</td>\n",
       "    </tr>\n",
       "    <tr>\n",
       "      <th>347</th>\n",
       "      <td>江苏省消防救援总队2023年度全省器材（第二批）采购项目</td>\n",
       "      <td>江苏省消防救援总队2023年全省器材（第二批）</td>\n",
       "      <td>25.800000</td>\n",
       "    </tr>\n",
       "    <tr>\n",
       "      <th>353</th>\n",
       "      <td>烟台打捞局2024年北方海域船舶代理服务项目</td>\n",
       "      <td>烟台打捞局2024年北方海域船舶代理服务项目</td>\n",
       "      <td>270.000000</td>\n",
       "    </tr>\n",
       "    <tr>\n",
       "      <th>365</th>\n",
       "      <td>复旦大学附属华山医院信息化建设非财政拨款项目</td>\n",
       "      <td>复旦大学附属华山医院病区综合楼改扩建项目配套网络设备（一期）</td>\n",
       "      <td>123.000000</td>\n",
       "    </tr>\n",
       "    <tr>\n",
       "      <th>379</th>\n",
       "      <td>江苏省消防救援总队无锡支队2023年度第一批目录外器材装备采购项目</td>\n",
       "      <td>一标段灭火类</td>\n",
       "      <td>3.515000</td>\n",
       "    </tr>\n",
       "    <tr>\n",
       "      <th>395</th>\n",
       "      <td>浙江大学紫金港校区西区综合训练馆项目审计协审服务</td>\n",
       "      <td>浙江大学紫金港校区西区综合训练馆项目审计协审服务</td>\n",
       "      <td>82.800000</td>\n",
       "    </tr>\n",
       "    <tr>\n",
       "      <th>402</th>\n",
       "      <td>中国第二历史档案馆新馆展陈项目（第一期）</td>\n",
       "      <td>展陈一期布展施工</td>\n",
       "      <td>2675.505060</td>\n",
       "    </tr>\n",
       "  </tbody>\n",
       "</table>\n",
       "</div>"
      ],
      "text/plain": [
       "                                       项目名称  \\\n",
       "12             江苏省消防救援总队2023年度全省器材（第二批）采购项目   \n",
       "25                          2023年公用基础设施建设工程   \n",
       "28          成都市天府新区消防救援大队2023年伙食物资保障及配送服务项目   \n",
       "33            白山市森林消防支队长白山池南区大队迁建营区配套设施建设项目   \n",
       "99             江苏省消防救援总队2023年度全省器材（第二批）采购项目   \n",
       "103                 北京林业大学学7、10号楼部分电梯采购安装项目   \n",
       "203                       第七次全国荒漠化和沙化调查技术准备   \n",
       "242  天津市消防救援总队2023年常规消耗性器材第二批部门集中采购项目（高新支队）   \n",
       "248                      云南复杂地形下精细化温度预报产品研发   \n",
       "277                          一张图综合决策移动APP建设   \n",
       "294            江苏省消防救援总队2023年度全省器材（第二批）采购项目   \n",
       "302       天津消防救援总队高新支队2023年度专职消防员被装部门集中采购项目   \n",
       "315                         未来材料创制中心第二批实验家具   \n",
       "344                  哈尔滨工业大学中俄联合校园A区锅炉房改造项目   \n",
       "347            江苏省消防救援总队2023年度全省器材（第二批）采购项目   \n",
       "353                  烟台打捞局2024年北方海域船舶代理服务项目   \n",
       "365                  复旦大学附属华山医院信息化建设非财政拨款项目   \n",
       "379       江苏省消防救援总队无锡支队2023年度第一批目录外器材装备采购项目   \n",
       "395                浙江大学紫金港校区西区综合训练馆项目审计协审服务   \n",
       "402                    中国第二历史档案馆新馆展陈项目（第一期）   \n",
       "\n",
       "                                      主要标的名称       合同金额万元  \n",
       "12                   江苏省消防救援总队2023年全省器材（第二批）     0.453900  \n",
       "25                         公用基础设施建设项目EPC 总承包   937.250000  \n",
       "28                        2023年伙食物资保障及配送服务项目   328.590000  \n",
       "33          吉林省森林消防总队白山市支队长白山池南区大队迁建营区配套设施项目   225.000000  \n",
       "99                   江苏省消防救援总队2023年全省器材（第二批）     4.200000  \n",
       "103                        学7、10号楼部分电梯采购安装项目   187.520000  \n",
       "203                            荒漠化石漠化等调查管理项目   180.000000  \n",
       "242                        常规消耗性器材（高新第二批第8包）    18.000000  \n",
       "248                     云南复杂地形下精细化温度预报产品研发项目    44.800000  \n",
       "277                         一张图综合决策移动APP建设项目   179.000000  \n",
       "294                  江苏省消防救援总队2023年全省器材（第二批）     1.800000  \n",
       "302  国家消防救援局(东区)2023年度消防被装部门集中采购项目(第一批次) 第5包     0.952000  \n",
       "315                          未来材料创制中心第二批实验家具   205.557470  \n",
       "344                          中俄联合校园A区锅炉房改造项目   835.653228  \n",
       "347                  江苏省消防救援总队2023年全省器材（第二批）    25.800000  \n",
       "353                   烟台打捞局2024年北方海域船舶代理服务项目   270.000000  \n",
       "365           复旦大学附属华山医院病区综合楼改扩建项目配套网络设备（一期）   123.000000  \n",
       "379                                   一标段灭火类     3.515000  \n",
       "395                 浙江大学紫金港校区西区综合训练馆项目审计协审服务    82.800000  \n",
       "402                                 展陈一期布展施工  2675.505060  "
      ]
     },
     "execution_count": 239,
     "metadata": {},
     "output_type": "execute_result"
    }
   ],
   "source": [
    "\n",
    "keywords = [\"项目\", \"二次\", \"一期\", \"二期\", \"一标段\", \"二标段\", \"第二批\"]\n",
    "pattern = \"|\".join(keywords)\n",
    "\n",
    "mask = df[\"主要标的名称\"].astype(str).str.contains(pattern, na=False)\n",
    "\n",
    "df_subset = df[mask]\n",
    "\n",
    "df_subset[[\"项目名称\",\"主要标的名称\", \"合同金额万元\"]].head(20)\n"
   ]
  },
  {
   "cell_type": "code",
   "execution_count": null,
   "id": "a6e4a2f7",
   "metadata": {},
   "outputs": [],
   "source": [
    "df.head()"
   ]
  },
  {
   "cell_type": "code",
   "execution_count": null,
   "id": "3e910e9b",
   "metadata": {},
   "outputs": [],
   "source": [
    "df[\"主要标的名称\"].value_counts()"
   ]
  },
  {
   "cell_type": "code",
   "execution_count": null,
   "id": "bfee1a59",
   "metadata": {},
   "outputs": [],
   "source": [
    "df['项目名称'].unique()"
   ]
  },
  {
   "cell_type": "code",
   "execution_count": null,
   "id": "93a03d77",
   "metadata": {},
   "outputs": [],
   "source": [
    "df['项目名称'].nunique()"
   ]
  },
  {
   "cell_type": "code",
   "execution_count": null,
   "id": "17187dbf",
   "metadata": {},
   "outputs": [],
   "source": [
    "import re\n",
    "from collections import Counter\n",
    "import pandas as pd\n",
    "\n",
    "# 统计所有词\n",
    "all_words = []\n",
    "for name in df[\"主要标的名称\"].dropna().astype(str):\n",
    "    words = re.split(r\"[、，,（）() ]\", name)\n",
    "    all_words.extend(words)\n",
    "\n",
    "# 前100高频词\n",
    "counter = Counter(all_words)\n",
    "top100 = [(w, c) for w, c in counter.most_common(100) if w.strip() != \"\"]\n",
    "\n",
    "# 转成 DataFrame\n",
    "kw_df = pd.DataFrame(top100, columns=[\"keyword\", \"count\"])\n",
    "\n",
    "# 新建一列 category，空着等你手动填\n",
    "kw_df[\"category\"] = \"\"\n",
    "\n",
    "# 导出 CSV\n",
    "kw_df.to_csv(\"keywords.csv\", index=False, encoding=\"utf-8-sig\")\n",
    "\n",
    "print(\"已导出 keywords.csv，可手动编辑 category 列\")\n"
   ]
  },
  {
   "cell_type": "code",
   "execution_count": null,
   "id": "bfafca6f",
   "metadata": {},
   "outputs": [],
   "source": [
    "import re\n",
    "from collections import Counter\n",
    "import pandas as pd\n",
    "import os\n",
    "\n",
    "def export_top_keywords(df, col_name, csv_path=\"/Users/yxy/UChi/Summer2025/Procurement/dta/keywords_classified.csv\", topn=100):\n",
    "    \"\"\"\n",
    "    从 df[col_name] 提取高频词，生成/追加到 csv 文件\n",
    "    \"\"\"\n",
    "    # 分词\n",
    "    all_words = []\n",
    "    for name in df[col_name].dropna().astype(str):\n",
    "        words = re.split(r\"[、，,（）() ]\", name)\n",
    "        all_words.extend(words)\n",
    "\n",
    "    # 高频词\n",
    "    counter = Counter(all_words)\n",
    "    topn_words = [(w, c) for w, c in counter.most_common(topn) if w.strip() != \"\"]\n",
    "    new_df = pd.DataFrame(topn_words, columns=[\"keyword\", \"count\"])\n",
    "    new_df[\"category\"] = \"\"\n",
    "\n",
    "    # 如果文件已存在 → 读入旧文件并合并\n",
    "    if os.path.exists(csv_path):\n",
    "        old_df = pd.read_csv(csv_path)\n",
    "        combined = pd.concat([old_df, new_df], ignore_index=True)\n",
    "        # 去重（同一个 keyword 保留第一次出现）\n",
    "        combined = combined.drop_duplicates(subset=[\"keyword\"], keep=\"first\")\n",
    "    else:\n",
    "        combined = new_df\n",
    "\n",
    "    # 保存\n",
    "    combined.to_csv(csv_path, index=False, encoding=\"utf-8-sig\")\n",
    "    print(f\"已更新 {csv_path}, 当前总词数: {len(combined)}\")\n",
    "\n",
    "\n"
   ]
  },
  {
   "cell_type": "code",
   "execution_count": null,
   "id": "b3e05a8d",
   "metadata": {},
   "outputs": [],
   "source": [
    "import pandas as pd\n",
    "import re\n",
    "\n",
    "# 读取关键词分类文件\n",
    "kw_file = \"/Users/yxy/UChi/Summer2025/Procurement/dta/keywords_classified.csv\"\n",
    "kw_df = pd.read_csv(kw_file)\n",
    "\n",
    "# 构造关键词 -> 类别映射\n",
    "mapping = dict(zip(kw_df[\"keyword\"].astype(str), kw_df[\"category\"].astype(str)))\n",
    "\n",
    "def classify_name(name):\n",
    "    if pd.isna(name) or not isinstance(name, str) or name.strip() == \"\":\n",
    "        return pd.NA\n",
    "    \n",
    "    words = re.split(r\"[、，,（）() ]\", name)\n",
    "    categories = set()\n",
    "\n",
    "    for w in words:\n",
    "        if w in mapping:\n",
    "            categories.add(mapping[w])\n",
    "    \n",
    "    if len(categories) == 1:\n",
    "        return categories.pop()\n",
    "    elif len(categories) > 1:\n",
    "        return \"notsure\"\n",
    "    else:\n",
    "        return pd.NA\n",
    "\n",
    "# 应用分类\n",
    "df[\"cat\"] = df[\"主要标的名称\"].apply(classify_name)\n",
    "\n",
    "# 检查结果\n",
    "print(df[\"cat\"].value_counts(dropna=False))\n"
   ]
  },
  {
   "cell_type": "code",
   "execution_count": null,
   "id": "18319b2f",
   "metadata": {},
   "outputs": [],
   "source": [
    "df.loc[df['cat'] == 'notsure', 'cat'] = '服务'\n"
   ]
  },
  {
   "cell_type": "code",
   "execution_count": null,
   "id": "24205d31",
   "metadata": {},
   "outputs": [],
   "source": [
    "df[\"cat\"].value_counts(dropna=False)"
   ]
  },
  {
   "cell_type": "code",
   "execution_count": null,
   "id": "74b519eb",
   "metadata": {},
   "outputs": [],
   "source": [
    "df_miss1 = df[df[\"cat\"].isna()]\n",
    "df_miss1.shape"
   ]
  },
  {
   "cell_type": "code",
   "execution_count": null,
   "id": "22b71a8d",
   "metadata": {},
   "outputs": [],
   "source": [
    "export_top_keywords(df_miss1, \"主要标的名称\", \"/Users/yxy/UChi/Summer2025/Procurement/dta/keywords_classified.csv\", topn=100)"
   ]
  },
  {
   "cell_type": "code",
   "execution_count": null,
   "id": "f0b8b822",
   "metadata": {},
   "outputs": [],
   "source": [
    "mask = df[\"主要标的名称\"].astype(str).str.contains(\"汽油\", na=False)\n",
    "result = df.loc[mask]\n",
    "\n",
    "print(\"匹配行数:\", len(result))\n",
    "result.head()\n"
   ]
  },
  {
   "cell_type": "code",
   "execution_count": null,
   "id": "ed9cf37a",
   "metadata": {},
   "outputs": [],
   "source": [
    "import pandas as pd\n",
    "import re\n",
    "\n",
    "kw_file = \"/Users/yxy/UChi/Summer2025/Procurement/dta/keywords_classified.csv\"\n",
    "kw_df = pd.read_csv(kw_file)\n",
    "\n",
    "mapping = dict(zip(kw_df[\"keyword\"].astype(str), kw_df[\"category\"].astype(str)))\n",
    "\n",
    "def classify_name(name, current_cat):\n",
    "    if isinstance(current_cat, str) and current_cat.strip() != \"\":\n",
    "        return current_cat\n",
    "    \n",
    "    if pd.isna(name) or not isinstance(name, str) or name.strip() == \"\":\n",
    "        return pd.NA\n",
    "    \n",
    "    words = re.split(r\"[、，,（）() ]\", name)\n",
    "    categories = set()\n",
    "\n",
    "    for w in words:\n",
    "        if w in mapping:\n",
    "            categories.add(mapping[w])\n",
    "    \n",
    "    if len(categories) == 1:\n",
    "        return categories.pop()\n",
    "    elif len(categories) > 1:\n",
    "        return \"notsure\"\n",
    "    else:\n",
    "        return pd.NA\n",
    "\n",
    "# 应用分类（对已有 cat=NA 的进行补充）\n",
    "df[\"cat\"] = df.apply(lambda row: classify_name(row[\"主要标的名称\"], row.get(\"cat\", \"\")), axis=1)\n",
    "\n",
    "# 检查结果\n",
    "print(df[\"cat\"].value_counts(dropna=False))\n"
   ]
  },
  {
   "cell_type": "code",
   "execution_count": null,
   "id": "b22b7ef4",
   "metadata": {},
   "outputs": [],
   "source": [
    "pip install jieba\n"
   ]
  },
  {
   "cell_type": "code",
   "execution_count": null,
   "id": "0612bfa2",
   "metadata": {},
   "outputs": [],
   "source": [
    "import jieba\n",
    "\n",
    "text = \"吉林省救援总队2023年全省抢险救灾装备项目（三）\"\n",
    "words = jieba.lcut(text)\n",
    "print(words)\n"
   ]
  }
 ],
 "metadata": {
  "kernelspec": {
   "display_name": "Python 3",
   "language": "python",
   "name": "python3"
  },
  "language_info": {
   "codemirror_mode": {
    "name": "ipython",
    "version": 3
   },
   "file_extension": ".py",
   "mimetype": "text/x-python",
   "name": "python",
   "nbconvert_exporter": "python",
   "pygments_lexer": "ipython3",
   "version": "3.12.5"
  }
 },
 "nbformat": 4,
 "nbformat_minor": 5
}
