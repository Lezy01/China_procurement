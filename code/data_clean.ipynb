{
 "cells": [
  {
   "cell_type": "markdown",
   "id": "7a28c855",
   "metadata": {},
   "source": [
    "# Data cleaning\n",
    "\n",
    "先通过stata生成变量amount，num_goods, price_goods,读入数据，检查基本信息。中国政府采购、公共采购主要分为货物、服务、工程三大类，分别有不同的公开招标金额标准。\n",
    "根据主要标的名称和项目名称中词汇出现的词频，选出top 100关键词，对关键词进行手动分类，排除其中容易出现歧义的部分，比如油，可能是“燃油采购”（货物），也可能是“加油服务”（服务）。对包含关键词的采购项目进行分类，在通过机器学习进行分类。"
   ]
  },
  {
   "cell_type": "code",
   "execution_count": 79,
   "id": "b0942861",
   "metadata": {},
   "outputs": [],
   "source": [
    "import pandas as pd\n",
    "\n",
    "pd.set_option(\"display.max_columns\", None)   \n",
    "pd.set_option(\"display.max_rows\", 100)\n",
    "pd.set_option(\"display.width\", None)     "
   ]
  },
  {
   "cell_type": "code",
   "execution_count": 61,
   "id": "6c97e591",
   "metadata": {},
   "outputs": [],
   "source": [
    "\n",
    "csv_file = \"/Users/yxy/UChi/Summer2025/Procurement/dta/china_procurement_clean1.csv\"\n",
    "\n",
    "df = pd.read_csv(csv_file, low_memory=False)\n"
   ]
  },
  {
   "cell_type": "markdown",
   "id": "2291a672",
   "metadata": {},
   "source": [
    "## Generate training set\n",
    "### top 100 items\n",
    "给出现频率前100的标的物名称手动标注类别，使用了chatgpt+人工检查，对一部分“无”，“详情见合同”，标注了类别notsure"
   ]
  },
  {
   "cell_type": "code",
   "execution_count": 68,
   "id": "7764dd79",
   "metadata": {},
   "outputs": [
    {
     "name": "stdout",
     "output_type": "stream",
     "text": [
      "Top 100 items exported to keywords.csv for manual categorization.\n"
     ]
    }
   ],
   "source": [
    "import pandas as pd\n",
    "\n",
    "top100_items = df[\"主要标的名称\"].value_counts().head(100).reset_index()\n",
    "top100_items.columns = [\"keyword\", \"count\"]\n",
    "\n",
    "top100_items[\"category\"] = \"\"\n",
    "\n",
    "top100_items.to_csv(\"/Users/yxy/UChi/Summer2025/Procurement/dta/keywords.csv\", index=False, encoding=\"utf-8-sig\")\n",
    "\n",
    "print(\"Top 100 items exported to keywords.csv for manual categorization.\")\n"
   ]
  },
  {
   "cell_type": "code",
   "execution_count": null,
   "id": "284ae0d9",
   "metadata": {},
   "outputs": [],
   "source": [
    "\n",
    "classified = pd.read_csv(\"/Users/yxy/UChi/Summer2025/Procurement/dta/keywords.csv\")\n",
    "\n",
    "df = df.merge(classified[[\"keyword\", \"category\"]], \n",
    "              left_on=\"主要标的名称\", \n",
    "              right_on=\"keyword\", \n",
    "              how=\"left\")\n",
    "\n",
    "df.rename(columns={\"category\": \"cat\"}, inplace=True)\n",
    "\n",
    "df.drop(columns=[\"keyword\"], inplace=True)\n",
    "\n"
   ]
  },
  {
   "cell_type": "code",
   "execution_count": 70,
   "id": "3e89b206",
   "metadata": {},
   "outputs": [
    {
     "data": {
      "text/plain": [
       "cat\n",
       "NaN        1643944\n",
       "货物          869663\n",
       "服务          465043\n",
       "工程          161255\n",
       "notsure      20021\n",
       "Name: count, dtype: int64"
      ]
     },
     "execution_count": 70,
     "metadata": {},
     "output_type": "execute_result"
    }
   ],
   "source": [
    "df['cat'].value_counts(dropna=False)"
   ]
  },
  {
   "cell_type": "code",
   "execution_count": 81,
   "id": "0a7418b8",
   "metadata": {},
   "outputs": [
    {
     "name": "stdout",
     "output_type": "stream",
     "text": [
      "主要标的名称\n",
      "无                             6589\n",
      "详见合同文本。                       3432\n",
      "无无                            2938\n",
      "1                             2753\n",
      "见附件                           2308\n",
      "详见合同附件                        2001\n",
      "办公设备                          1921\n",
      "车辆加油服务,采购数量1;                 1858\n",
      "信息化工程监理服务                     1777\n",
      "燃油费                           1776\n",
      "打印设备                          1775\n",
      "印刷品,采购数量1;                    1768\n",
      "测试评估认证服务                      1759\n",
      "商务车                           1746\n",
      "桌前椅                           1725\n",
      "汽油                            1714\n",
      "A4黑白打印机                       1706\n",
      "车辆维修,采购数量1.0000;              1698\n",
      "其他不另分类的物品                     1698\n",
      "车辆加油                          1690\n",
      "木质架类                          1622\n",
      "-                             1619\n",
      "物业服务                          1610\n",
      "其他信息技术服务                      1584\n",
      "印刷                            1583\n",
      "基础软件                          1546\n",
      "不间断电源                         1490\n",
      "车辆加油,采购数量1;                   1462\n",
      "车辆维修保养,采购数量1;                 1458\n",
      "车辆维修, 采购数量1                   1416\n",
      "小型客车                          1415\n",
      "服务                            1391\n",
      "单人沙发                          1384\n",
      "茶几                            1354\n",
      "印刷服务,采购数量1.0000;              1347\n",
      "乘用车                           1297\n",
      "其他数据处理服务                      1296\n",
      "硒鼓                            1268\n",
      "C081401 印刷服务                  1240\n",
      "硬件集成实施服务                      1212\n",
      "佩戴式防爆照明灯                      1207\n",
      "/                             1206\n",
      "粉盒                            1206\n",
      "印刷,采购数量1;                     1181\n",
      "物业管理服务,采购数量1;                 1159\n",
      "采购复印纸                         1156\n",
      "茶水柜                           1130\n",
      "汽油,采购数量1;                     1127\n",
      "行业应用软件开发服务                    1106\n",
      "打印纸                           1099\n",
      "电视机                           1088\n",
      "彩色打印机                         1085\n",
      "车辆维修和保养服务,采购数量1.0000;         1078\n",
      "惠普                            1054\n",
      "数据加工处理服务                      1046\n",
      "乘用车（轿车）                       1044\n",
      "详见招标文件                        1041\n",
      "印刷服务, 采购数量1                   1033\n",
      "其他架类                          1028\n",
      "公务车加油                         1023\n",
      "印刷费,采购数量1.0000;               1023\n",
      "其他系统集成实施服务                    1010\n",
      "车辆保险,采购数量1.0000;               980\n",
      "见合同                            955\n",
      "A4彩色打印机                        950\n",
      "单证印刷服务                         946\n",
      "台式机                            945\n",
      "越野车                            936\n",
      "消防手套                           923\n",
      "消防员呼救器                         904\n",
      "汽车维修                           903\n",
      "办公套件                           899\n",
      "印刷费                            877\n",
      "华硕                             855\n",
      "智慧黑板                           839\n",
      "更衣柜                            834\n",
      "机动车保险服务,采购数量1;                 832\n",
      "视频会议控制台                        828\n",
      "A4                             828\n",
      "印刷品,采购数量1.0000;                823\n",
      "一体机                            815\n",
      "其他信息技术咨询服务                     814\n",
      "1,采购数量1;                       805\n",
      "甘肃省机关事务管理局公务用车管理中心定点车辆保险采购     796\n",
      "加油                             787\n",
      "车辆租赁                           784\n",
      "档案柜                            777\n",
      "维修,采购数量1;                      773\n",
      "沙发                             773\n",
      "鼓粉盒                            749\n",
      "一般会议服务                         745\n",
      "应急逃生自救安全绳                      739\n",
      "消防员灭火防护靴                       739\n",
      "餐饮服务                           737\n",
      "详见附件。                          732\n",
      "图书                             729\n",
      "第一包                            726\n",
      "手提式强光照明灯                       708\n",
      "运行维护服务                         706\n",
      "其他专业技术服务                       702\n",
      "Name: count, dtype: int64\n"
     ]
    }
   ],
   "source": [
    "df_uncat = df[df['cat'].isna() | (df['cat'] == 'notsure')]\n",
    "print(df_uncat['主要标的名称'].value_counts().head(100))"
   ]
  },
  {
   "cell_type": "markdown",
   "id": "f5f81a49",
   "metadata": {},
   "source": [
    "# test code"
   ]
  },
  {
   "cell_type": "code",
   "execution_count": null,
   "id": "a6e4a2f7",
   "metadata": {},
   "outputs": [],
   "source": [
    "df.head()"
   ]
  },
  {
   "cell_type": "code",
   "execution_count": 67,
   "id": "3e910e9b",
   "metadata": {},
   "outputs": [
    {
     "data": {
      "text/plain": [
       "主要标的名称\n",
       "复印纸                                   186539\n",
       "印刷服务                                  110900\n",
       "台式计算机                                  93411\n",
       "空调机                                    90424\n",
       "物业管理服务                                 76511\n",
       "                                       ...  \n",
       "肥胖症中西医保健宣传册,采购数量350;                       1\n",
       "车辆保险（新购置）,采购数量1;                           1\n",
       "社区共治共建项目                                   1\n",
       "北京经济技术开发区综合执法局2023年市场、环境秩序巡查防控辅助服务         1\n",
       "区县级咨询热线呼叫服务                                1\n",
       "Name: count, Length: 952612, dtype: int64"
      ]
     },
     "execution_count": 67,
     "metadata": {},
     "output_type": "execute_result"
    }
   ],
   "source": [
    "df[\"主要标的名称\"].value_counts()"
   ]
  },
  {
   "cell_type": "code",
   "execution_count": null,
   "id": "bfee1a59",
   "metadata": {},
   "outputs": [],
   "source": [
    "df['项目名称'].unique()"
   ]
  },
  {
   "cell_type": "code",
   "execution_count": null,
   "id": "93a03d77",
   "metadata": {},
   "outputs": [],
   "source": [
    "df['项目名称'].nunique()"
   ]
  },
  {
   "cell_type": "code",
   "execution_count": null,
   "id": "71c31efb",
   "metadata": {},
   "outputs": [],
   "source": [
    "import re\n",
    "from collections import Counter\n",
    "\n",
    "all_words = []\n",
    "for name in df[\"主要标的名称\"].astype(str):\n",
    "    words = re.split(r\"[、，,（）() ]\", name)\n",
    "    all_words.extend(words)\n",
    "\n",
    "# 统计前100个高频词\n",
    "counter = Counter(all_words)\n",
    "top100 = [w for w, _ in counter.most_common(100) if w.strip() != \"\"]\n",
    "\n",
    "# 计算覆盖的行数\n",
    "mask = df[\"主要标的名称\"].astype(str).apply(\n",
    "    lambda x: any(w in x for w in top100)\n",
    ")\n",
    "covered_rows = mask.sum()\n",
    "total_rows = mask.shape[0]\n",
    "\n",
    "print(\"前100高频词覆盖的行数:\", covered_rows)\n",
    "print(\"覆盖率: {:.2f}%\".format(covered_rows / total_rows * 100))\n"
   ]
  },
  {
   "cell_type": "code",
   "execution_count": null,
   "id": "17187dbf",
   "metadata": {},
   "outputs": [],
   "source": [
    "import re\n",
    "from collections import Counter\n",
    "import pandas as pd\n",
    "\n",
    "# 统计所有词\n",
    "all_words = []\n",
    "for name in df[\"主要标的名称\"].dropna().astype(str):\n",
    "    words = re.split(r\"[、，,（）() ]\", name)\n",
    "    all_words.extend(words)\n",
    "\n",
    "# 前100高频词\n",
    "counter = Counter(all_words)\n",
    "top100 = [(w, c) for w, c in counter.most_common(100) if w.strip() != \"\"]\n",
    "\n",
    "# 转成 DataFrame\n",
    "kw_df = pd.DataFrame(top100, columns=[\"keyword\", \"count\"])\n",
    "\n",
    "# 新建一列 category，空着等你手动填\n",
    "kw_df[\"category\"] = \"\"\n",
    "\n",
    "# 导出 CSV\n",
    "kw_df.to_csv(\"keywords.csv\", index=False, encoding=\"utf-8-sig\")\n",
    "\n",
    "print(\"已导出 keywords.csv，可手动编辑 category 列\")\n"
   ]
  },
  {
   "cell_type": "code",
   "execution_count": null,
   "id": "bfafca6f",
   "metadata": {},
   "outputs": [],
   "source": [
    "import re\n",
    "from collections import Counter\n",
    "import pandas as pd\n",
    "import os\n",
    "\n",
    "def export_top_keywords(df, col_name, csv_path=\"/Users/yxy/UChi/Summer2025/Procurement/dta/keywords_classified.csv\", topn=100):\n",
    "    \"\"\"\n",
    "    从 df[col_name] 提取高频词，生成/追加到 csv 文件\n",
    "    \"\"\"\n",
    "    # 分词\n",
    "    all_words = []\n",
    "    for name in df[col_name].dropna().astype(str):\n",
    "        words = re.split(r\"[、，,（）() ]\", name)\n",
    "        all_words.extend(words)\n",
    "\n",
    "    # 高频词\n",
    "    counter = Counter(all_words)\n",
    "    topn_words = [(w, c) for w, c in counter.most_common(topn) if w.strip() != \"\"]\n",
    "    new_df = pd.DataFrame(topn_words, columns=[\"keyword\", \"count\"])\n",
    "    new_df[\"category\"] = \"\"\n",
    "\n",
    "    # 如果文件已存在 → 读入旧文件并合并\n",
    "    if os.path.exists(csv_path):\n",
    "        old_df = pd.read_csv(csv_path)\n",
    "        combined = pd.concat([old_df, new_df], ignore_index=True)\n",
    "        # 去重（同一个 keyword 保留第一次出现）\n",
    "        combined = combined.drop_duplicates(subset=[\"keyword\"], keep=\"first\")\n",
    "    else:\n",
    "        combined = new_df\n",
    "\n",
    "    # 保存\n",
    "    combined.to_csv(csv_path, index=False, encoding=\"utf-8-sig\")\n",
    "    print(f\"已更新 {csv_path}, 当前总词数: {len(combined)}\")\n",
    "\n",
    "\n"
   ]
  },
  {
   "cell_type": "code",
   "execution_count": null,
   "id": "b3e05a8d",
   "metadata": {},
   "outputs": [],
   "source": [
    "import pandas as pd\n",
    "import re\n",
    "\n",
    "# 读取关键词分类文件\n",
    "kw_file = \"/Users/yxy/UChi/Summer2025/Procurement/dta/keywords_classified.csv\"\n",
    "kw_df = pd.read_csv(kw_file)\n",
    "\n",
    "# 构造关键词 -> 类别映射\n",
    "mapping = dict(zip(kw_df[\"keyword\"].astype(str), kw_df[\"category\"].astype(str)))\n",
    "\n",
    "def classify_name(name):\n",
    "    if pd.isna(name) or not isinstance(name, str) or name.strip() == \"\":\n",
    "        return pd.NA\n",
    "    \n",
    "    words = re.split(r\"[、，,（）() ]\", name)\n",
    "    categories = set()\n",
    "\n",
    "    for w in words:\n",
    "        if w in mapping:\n",
    "            categories.add(mapping[w])\n",
    "    \n",
    "    if len(categories) == 1:\n",
    "        return categories.pop()\n",
    "    elif len(categories) > 1:\n",
    "        return \"notsure\"\n",
    "    else:\n",
    "        return pd.NA\n",
    "\n",
    "# 应用分类\n",
    "df[\"cat\"] = df[\"主要标的名称\"].apply(classify_name)\n",
    "\n",
    "# 检查结果\n",
    "print(df[\"cat\"].value_counts(dropna=False))\n"
   ]
  },
  {
   "cell_type": "code",
   "execution_count": null,
   "id": "18319b2f",
   "metadata": {},
   "outputs": [],
   "source": [
    "df.loc[df['cat'] == 'notsure', 'cat'] = '服务'\n"
   ]
  },
  {
   "cell_type": "code",
   "execution_count": null,
   "id": "24205d31",
   "metadata": {},
   "outputs": [],
   "source": [
    "df[\"cat\"].value_counts(dropna=False)"
   ]
  },
  {
   "cell_type": "code",
   "execution_count": null,
   "id": "74b519eb",
   "metadata": {},
   "outputs": [],
   "source": [
    "df_miss1 = df[df[\"cat\"].isna()]\n",
    "df_miss1.shape"
   ]
  },
  {
   "cell_type": "code",
   "execution_count": null,
   "id": "22b71a8d",
   "metadata": {},
   "outputs": [],
   "source": [
    "export_top_keywords(df_miss1, \"主要标的名称\", \"/Users/yxy/UChi/Summer2025/Procurement/dta/keywords_classified.csv\", topn=100)"
   ]
  },
  {
   "cell_type": "code",
   "execution_count": null,
   "id": "f0b8b822",
   "metadata": {},
   "outputs": [],
   "source": [
    "mask = df[\"主要标的名称\"].astype(str).str.contains(\"汽油\", na=False)\n",
    "result = df.loc[mask]\n",
    "\n",
    "print(\"匹配行数:\", len(result))\n",
    "result.head()\n"
   ]
  },
  {
   "cell_type": "code",
   "execution_count": null,
   "id": "ed9cf37a",
   "metadata": {},
   "outputs": [],
   "source": [
    "import pandas as pd\n",
    "import re\n",
    "\n",
    "kw_file = \"/Users/yxy/UChi/Summer2025/Procurement/dta/keywords_classified.csv\"\n",
    "kw_df = pd.read_csv(kw_file)\n",
    "\n",
    "mapping = dict(zip(kw_df[\"keyword\"].astype(str), kw_df[\"category\"].astype(str)))\n",
    "\n",
    "def classify_name(name, current_cat):\n",
    "    if isinstance(current_cat, str) and current_cat.strip() != \"\":\n",
    "        return current_cat\n",
    "    \n",
    "    if pd.isna(name) or not isinstance(name, str) or name.strip() == \"\":\n",
    "        return pd.NA\n",
    "    \n",
    "    words = re.split(r\"[、，,（）() ]\", name)\n",
    "    categories = set()\n",
    "\n",
    "    for w in words:\n",
    "        if w in mapping:\n",
    "            categories.add(mapping[w])\n",
    "    \n",
    "    if len(categories) == 1:\n",
    "        return categories.pop()\n",
    "    elif len(categories) > 1:\n",
    "        return \"notsure\"\n",
    "    else:\n",
    "        return pd.NA\n",
    "\n",
    "# 应用分类（对已有 cat=NA 的进行补充）\n",
    "df[\"cat\"] = df.apply(lambda row: classify_name(row[\"主要标的名称\"], row.get(\"cat\", \"\")), axis=1)\n",
    "\n",
    "# 检查结果\n",
    "print(df[\"cat\"].value_counts(dropna=False))\n"
   ]
  },
  {
   "cell_type": "code",
   "execution_count": 64,
   "id": "b22b7ef4",
   "metadata": {},
   "outputs": [
    {
     "name": "stdout",
     "output_type": "stream",
     "text": [
      "Collecting jieba\n",
      "  Downloading jieba-0.42.1.tar.gz (19.2 MB)\n",
      "\u001b[2K     \u001b[90m━━━━━━━━━━━━━━━━━━━━━━━━━━━━━━━━━━━━━━━━\u001b[0m \u001b[32m19.2/19.2 MB\u001b[0m \u001b[31m14.4 MB/s\u001b[0m eta \u001b[36m0:00:00\u001b[0ma \u001b[36m0:00:01\u001b[0m\n",
      "\u001b[?25h  Installing build dependencies ... \u001b[?25ldone\n",
      "\u001b[?25h  Getting requirements to build wheel ... \u001b[?25ldone\n",
      "\u001b[?25h  Preparing metadata (pyproject.toml) ... \u001b[?25ldone\n",
      "\u001b[?25hBuilding wheels for collected packages: jieba\n",
      "  Building wheel for jieba (pyproject.toml) ... \u001b[?25ldone\n",
      "\u001b[?25h  Created wheel for jieba: filename=jieba-0.42.1-py3-none-any.whl size=19314509 sha256=2788c175e7cfe263a50db7b5404156e262af41e4c95a127027e96e8bc02c7f0b\n",
      "  Stored in directory: /Users/yxy/Library/Caches/pip/wheels/08/a1/a3/5c8ac52cc2f5782ffffc34c95c57c8e5ecb3063dc69541ee7c\n",
      "Successfully built jieba\n",
      "Installing collected packages: jieba\n",
      "Successfully installed jieba-0.42.1\n",
      "\n",
      "\u001b[1m[\u001b[0m\u001b[34;49mnotice\u001b[0m\u001b[1;39;49m]\u001b[0m\u001b[39;49m A new release of pip is available: \u001b[0m\u001b[31;49m24.3.1\u001b[0m\u001b[39;49m -> \u001b[0m\u001b[32;49m25.2\u001b[0m\n",
      "\u001b[1m[\u001b[0m\u001b[34;49mnotice\u001b[0m\u001b[1;39;49m]\u001b[0m\u001b[39;49m To update, run: \u001b[0m\u001b[32;49mpip3 install --upgrade pip\u001b[0m\n",
      "Note: you may need to restart the kernel to use updated packages.\n"
     ]
    }
   ],
   "source": [
    "pip install jieba\n"
   ]
  },
  {
   "cell_type": "code",
   "execution_count": 65,
   "id": "0612bfa2",
   "metadata": {},
   "outputs": [
    {
     "name": "stderr",
     "output_type": "stream",
     "text": [
      "Building prefix dict from the default dictionary ...\n",
      "Dumping model to file cache /var/folders/4g/6_8lhyp147394q93651p5kyw0000gn/T/jieba.cache\n",
      "Loading model cost 0.316 seconds.\n",
      "Prefix dict has been built successfully.\n"
     ]
    },
    {
     "name": "stdout",
     "output_type": "stream",
     "text": [
      "['吉林省', '救援', '总队', '2023', '年', '全省', '抢险救灾', '装备', '项目', '（', '三', '）']\n"
     ]
    }
   ],
   "source": [
    "import jieba\n",
    "\n",
    "text = \"吉林省救援总队2023年全省抢险救灾装备项目（三）\"\n",
    "words = jieba.lcut(text)\n",
    "print(words)\n"
   ]
  }
 ],
 "metadata": {
  "kernelspec": {
   "display_name": "Python 3",
   "language": "python",
   "name": "python3"
  },
  "language_info": {
   "codemirror_mode": {
    "name": "ipython",
    "version": 3
   },
   "file_extension": ".py",
   "mimetype": "text/x-python",
   "name": "python",
   "nbconvert_exporter": "python",
   "pygments_lexer": "ipython3",
   "version": "3.12.5"
  }
 },
 "nbformat": 4,
 "nbformat_minor": 5
}
