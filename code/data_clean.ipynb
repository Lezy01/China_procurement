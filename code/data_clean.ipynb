{
 "cells": [
  {
   "cell_type": "markdown",
   "id": "d6a14c75",
   "metadata": {},
   "source": [
    "# Data cleaning\n",
    "\n",
    "先通过stata生成变量amount，num_goods, price_goods,读入数据，检查基本信息。\n",
    "中国政府采购、公共采购主要分为货物、服务、工程三大类，有不同的公开招标金额标准。各省不同年份的标准不同，其中货物和服务的标准相同，工程按内容不同有不同标准。鉴于根据公开的采购信息，难以逐一判断工程类合同的具体内容，选择通过关键词判断合同是否为工程相关，直接排除工程部分，保留货物和服务采购数据。\n",
    "下面的程序主要进行以下数据清洗：\n",
    "1. 提取\"项目名称\",\"采购人甲方\",\"采购人地址\"中的省市县信息，结合2020年中国省市县三级行政区划表，匹配采购数据的地区(省级)\n",
    "2. 根据\"主要标的名称\"和\"项目名称\"中词汇判断采购类型。\n",
    "   出现的词频，选出top 100关键词，对关键词进行手动分类，排除其中容易出现歧义的部分，比如油，可能是“燃油采购”（货物），也可能是“加油服务”（服务）。对包含关键词的采购项目进行分类，在通过机器学习进行分类。\n",
    "\n",
    "中国政府采购分为分散采购和集中采购两种，在大部分省份，当采购金额低于50万元时由地方分散采购，所以在我们的数据中，保留了50万元以上的采购项目。各省集中采购公开招标的门槛最大为400万元，以100万元为基础的带宽，保留数据到500万元。"
   ]
  },
  {
   "cell_type": "code",
   "execution_count": 30,
   "id": "8e58a670",
   "metadata": {},
   "outputs": [],
   "source": [
    "import pandas as pd\n",
    "\n",
    "pd.set_option(\"display.max_columns\", None)   \n",
    "pd.set_option(\"display.max_rows\", 100)\n",
    "pd.set_option(\"display.width\", None)     "
   ]
  },
  {
   "cell_type": "code",
   "execution_count": null,
   "id": "be91e79e",
   "metadata": {},
   "outputs": [],
   "source": [
    "\n",
    "csv_file = \"/Users/yxy/UChi/Summer2025/Procurement/dta/china_procurement_clean1.csv\"\n",
    "\n",
    "df = pd.read_csv(csv_file, low_memory=False)\n",
    "\n",
    "df_filtered = df[(df['amount'] >= 50) & (df['amount'] <= 500) & (df['年份'] >= 2020)]"
   ]
  },
  {
   "cell_type": "code",
   "execution_count": null,
   "id": "f28b74d4",
   "metadata": {},
   "outputs": [],
   "source": [
    "df_filtered['年份'].value_counts()"
   ]
  },
  {
   "cell_type": "code",
   "execution_count": null,
   "id": "257ca57b",
   "metadata": {},
   "outputs": [],
   "source": [
    "df_filtered['amount'].describe()"
   ]
  },
  {
   "cell_type": "markdown",
   "id": "bf46309b",
   "metadata": {},
   "source": [
    "## 确定省份"
   ]
  },
  {
   "cell_type": "code",
   "execution_count": 21,
   "id": "eba84641",
   "metadata": {},
   "outputs": [],
   "source": [
    "import geopandas as gpd\n",
    "\n",
    "shp_path = \"/Users/yxy/UChi/Summer2025/Procurement/raw/Countylevel_Admin_2020/China2020County.shp\"\n",
    "gdf = gpd.read_file(shp_path)\n",
    "\n",
    "gdf = gdf[['省级', '地级', '县级']]"
   ]
  },
  {
   "cell_type": "code",
   "execution_count": 20,
   "id": "2589e883",
   "metadata": {},
   "outputs": [],
   "source": [
    "import re\n",
    "def extract_prov_city_county(text: str):\n",
    "    if not isinstance(text, str):  \n",
    "        return None, None, None\n",
    "    text = re.sub(r\"[-_\\s·、，,\\.]()（）*。\", \"\", text) \n",
    "    # text = re.sub(r\"[^\\u4e00-\\u9fa5]\", \"\", text)\n",
    "\n",
    "    prov_pattern = r\"(.*?(省|自治区|市))\"    \n",
    "    city_pattern = r\"(.*?(市|地区|盟|州))\"  \n",
    "    county_pattern = r\"(.*?(县|区|旗))\"     \n",
    "    \n",
    "    prov, city, county = None, None, None\n",
    "    municipalities = [\"北京市\",\"天津市\",\"上海市\",\"重庆市\"]\n",
    "\n",
    "    prov_match = re.match(prov_pattern, text)\n",
    "    if prov_match:\n",
    "        if '市' in prov_match.group(1) and prov_match.group(1) not in municipalities:\n",
    "            prov = None\n",
    "        else: \n",
    "            prov = prov_match.group(1)\n",
    "            text = text[len(prov):]\n",
    "    city_match = re.match(city_pattern, text)\n",
    "    if city_match:\n",
    "        city_candidate = city_match.group(1)\n",
    "        if city_candidate.endswith(\"州\") and text.startswith(\"市\", len(city_candidate)):\n",
    "            city = city_candidate + \"市\"\n",
    "            text = text[len(city_candidate) + 1:] \n",
    "        else:\n",
    "            city = city_candidate\n",
    "            text = text[len(city):]\n",
    "        \n",
    "    county_match = re.match(county_pattern, text)\n",
    "    if county_match:\n",
    "        county = county_match.group(1)\n",
    "\n",
    "    return prov, city, county\n"
   ]
  },
  {
   "cell_type": "code",
   "execution_count": 22,
   "id": "a99b6a67",
   "metadata": {},
   "outputs": [],
   "source": [
    "\n",
    "def fill_location(row):\n",
    "    prov, city, county = None, None, None\n",
    "\n",
    "    p1, c1, ct1 = extract_prov_city_county(row[\"采购人地址\"])\n",
    "    prov, city, county = p1, c1, ct1\n",
    "\n",
    "    if prov is None or city is None or county is None:\n",
    "        p2, c2, ct2 = extract_prov_city_county(row[\"采购人甲方\"])\n",
    "        if prov is None: prov = p2\n",
    "        if city is None: city = c2\n",
    "        if county is None: county = ct2\n",
    "\n",
    "    if prov is None or city is None or county is None:\n",
    "        p3, c3, ct3 = extract_prov_city_county(row[\"项目名称\"])\n",
    "        if prov is None: prov = p3\n",
    "        if city is None: city = c3\n",
    "        if county is None: county = ct3\n",
    "\n",
    "    return pd.Series([prov, city, county])\n"
   ]
  },
  {
   "cell_type": "code",
   "execution_count": 23,
   "id": "d2b34aeb",
   "metadata": {},
   "outputs": [],
   "source": [
    "def match_region(row, gdf):\n",
    "    if row[\"prov\"]:\n",
    "        match = gdf[gdf[\"省级\"] == row[\"prov\"]]\n",
    "        if not match.empty:\n",
    "            return match[\"省级\"].iloc[0]\n",
    "    if row[\"city\"]:\n",
    "        match = gdf[gdf[\"地级\"].str.contains(str(row[\"city\"]).replace(\"市\",\"\"), na=False, regex=False)]\n",
    "        if not match.empty:\n",
    "            return match[\"省级\"].iloc[0]\n",
    "        match = gdf[gdf[\"县级\"].str.contains(str(row[\"city\"]).replace(\"市\",\"\"), na=False, regex=False)]\n",
    "        if not match.empty:\n",
    "            return match[\"省级\"].iloc[0]\n",
    "    if row[\"county\"]:\n",
    "        match = gdf[gdf[\"县级\"] == row[\"county\"]]\n",
    "        if not match.empty:\n",
    "            return match[\"省级\"].iloc[0]\n",
    "\n",
    "    return None\n"
   ]
  },
  {
   "cell_type": "code",
   "execution_count": null,
   "id": "100f54af",
   "metadata": {},
   "outputs": [],
   "source": [
    "df_filtered[[\"prov\", \"city\", \"county\"]] = df_filtered.apply(fill_location, axis=1)\n",
    "df_filtered[\"region\"] = df_filtered.apply(lambda x: match_region(x, gdf), axis=1)\n",
    "df_filtered.to_csv(\"/Users/yxy/UChi/Summer2025/Procurement/dta/china_procurement_region.csv\", index=False, encoding=\"utf-8-sig\")"
   ]
  },
  {
   "cell_type": "code",
   "execution_count": 113,
   "id": "e5cebedb",
   "metadata": {},
   "outputs": [],
   "source": [
    "df_filtered = pd.read_csv(\"/Users/yxy/UChi/Summer2025/Procurement/dta/china_procurement_region.csv\", low_memory=False)"
   ]
  },
  {
   "cell_type": "code",
   "execution_count": 108,
   "id": "61284589",
   "metadata": {},
   "outputs": [],
   "source": [
    "import jieba\n",
    "\n",
    "def match_region_by_jieba(row, gdf):\n",
    "    fields = [\"采购人地址\", \"采购人甲方\", \"项目名称\"]\n",
    "\n",
    "    for field in fields:\n",
    "        text = row.get(field, \"\")\n",
    "        if not isinstance(text, str) or text.strip() == \"\":\n",
    "            continue\n",
    "\n",
    "        words = jieba.lcut(text)\n",
    "        if not words:\n",
    "            continue\n",
    "        first_word = words[0]\n",
    "\n",
    "        match = gdf[gdf[\"省级\"].str.contains(first_word, na=False, regex=False)]\n",
    "        if not match.empty:\n",
    "            return match[\"省级\"].iloc[0]\n",
    "\n",
    "    return None"
   ]
  },
  {
   "cell_type": "code",
   "execution_count": null,
   "id": "725663d0",
   "metadata": {},
   "outputs": [],
   "source": [
    "mask = df_filtered[\"region\"].isna()\n",
    "df_filtered.loc[mask, \"region\"] = df_filtered[mask].apply(\n",
    "    lambda x: match_region_by_jieba(x, gdf), axis=1\n",
    ")\n",
    "df_filtered = df_filtered[\n",
    "    ~df_filtered[\"region\"].isin([\"澳门特别行政区\", \"台湾省\",\"新疆维吾尔自治区\",\"西藏自治区\"])\n",
    "]\n",
    "df_filtered.to_csv(\"/Users/yxy/UChi/Summer2025/Procurement/dta/china_procurement_region2.csv\", index=False, encoding=\"utf-8-sig\")"
   ]
  },
  {
   "cell_type": "code",
   "execution_count": 117,
   "id": "625fe280",
   "metadata": {},
   "outputs": [],
   "source": [
    "df_filtered = pd.read_csv(\"/Users/yxy/UChi/Summer2025/Procurement/dta/china_procurement_region.csv\", low_memory=False)\n",
    "df_filtered2 = pd.read_csv(\"/Users/yxy/UChi/Summer2025/Procurement/dta/china_procurement_region2.csv\", low_memory=False)"
   ]
  },
  {
   "cell_type": "markdown",
   "id": "5ddefd29",
   "metadata": {},
   "source": [
    "## 确定类型\n",
    "### top 200 items\n",
    "给出现频率前200的标的物名称手动标注类别，使用了chatgpt+人工检查，对一部分“无”，“详情见合同”，标注了类别 “无分类”"
   ]
  },
  {
   "cell_type": "code",
   "execution_count": 120,
   "id": "e43a6d29",
   "metadata": {},
   "outputs": [],
   "source": [
    "out_path_kw = \"/Users/yxy/UChi/Summer2025/Procurement/dta/keywords.csv\""
   ]
  },
  {
   "cell_type": "code",
   "execution_count": 188,
   "id": "0ecf3f02",
   "metadata": {},
   "outputs": [],
   "source": [
    "df_filtered = pd.read_csv(\"/Users/yxy/UChi/Summer2025/Procurement/dta/china_procurement_region.csv\", low_memory=False)"
   ]
  },
  {
   "cell_type": "code",
   "execution_count": 189,
   "id": "16da2cb5",
   "metadata": {},
   "outputs": [],
   "source": [
    "df_filtered = df_filtered.dropna(subset=[\"region\"])"
   ]
  },
  {
   "cell_type": "code",
   "execution_count": 190,
   "id": "9da1ac18",
   "metadata": {},
   "outputs": [
    {
     "data": {
      "text/plain": [
       "年份\n",
       "2023    191582\n",
       "2022    158495\n",
       "2021    105770\n",
       "2020     47632\n",
       "2024     24300\n",
       "Name: count, dtype: int64"
      ]
     },
     "execution_count": 190,
     "metadata": {},
     "output_type": "execute_result"
    }
   ],
   "source": [
    "df_filtered['年份'].value_counts(dropna=False)"
   ]
  },
  {
   "cell_type": "code",
   "execution_count": 50,
   "id": "cae1e65e",
   "metadata": {},
   "outputs": [
    {
     "name": "stdout",
     "output_type": "stream",
     "text": [
      "Top 200 items exported to keywords.csv for manual categorization.\n"
     ]
    }
   ],
   "source": [
    "import pandas as pd\n",
    "out_path_kw = \"/Users/yxy/UChi/Summer2025/Procurement/dta/keywords.csv\"\n",
    "top100_items = df_filtered[\"主要标的名称\"].value_counts().head(200).reset_index()\n",
    "top100_items.columns = [\"keyword\", \"count\"]\n",
    "\n",
    "top100_items[\"category\"] = \"\"\n",
    "\n",
    "top100_items.to_csv(out_path_kw, index=False, encoding=\"utf-8-sig\")\n",
    "\n",
    "print(\"Top 200 items exported to keywords.csv for manual categorization.\")"
   ]
  },
  {
   "cell_type": "code",
   "execution_count": 191,
   "id": "1954f4e8",
   "metadata": {},
   "outputs": [],
   "source": [
    "classified = pd.read_csv(out_path_kw)\n",
    "df_filtered = df_filtered.merge(classified[[\"keyword\", \"category\"]], \n",
    "              left_on=\"主要标的名称\", \n",
    "              right_on=\"keyword\", \n",
    "              how=\"left\")\n",
    "df_filtered.rename(columns={\"category\": \"cat\"}, inplace=True)\n",
    "df_filtered.drop(columns=[\"keyword\"], inplace=True)"
   ]
  },
  {
   "cell_type": "code",
   "execution_count": 197,
   "id": "a6b15fd7",
   "metadata": {},
   "outputs": [
    {
     "data": {
      "text/plain": [
       "主要标的名称\n",
       "详见附件                    459\n",
       "详见合同                    292\n",
       "详见合同文本。                  97\n",
       "详见招标文件                   73\n",
       "/                        63\n",
       "                       ... \n",
       "2023年清新区自然保护地整合优化项目       1\n",
       "仙塘镇中心幼儿园基础设施配套补充项目        1\n",
       "城区围挡更换仿真绿植                1\n",
       "2023年鄂尔多斯全市旅游宣传片拍摄项目      1\n",
       "电动手术床（电动液压手术台）            1\n",
       "Name: count, Length: 24075, dtype: int64"
      ]
     },
     "execution_count": 197,
     "metadata": {},
     "output_type": "execute_result"
    }
   ],
   "source": [
    "df_filtered.loc[df_filtered[\"cat\"].isna(), \"主要标的名称\"].value_counts(dropna=False)\n"
   ]
  },
  {
   "cell_type": "code",
   "execution_count": 60,
   "id": "1fc41c0f",
   "metadata": {},
   "outputs": [],
   "source": [
    "import pandas as pd\n",
    "\n",
    "# 读入两个csv\n",
    "df1 = pd.read_csv(\"/Users/yxy/UChi/Summer2025/Procurement/dta/keywords.csv\")   \n",
    "df2 = pd.read_csv(\"/Users/yxy/UChi/Summer2025/Procurement/dta/cat_list.csv\")  \n",
    "\n",
    "df1 = df1[[\"keyword\", \"category\"]]\n",
    "df2 = df2[[\"keyword\", \"category\"]]\n",
    "\n",
    "df_all = pd.concat([df1, df2], ignore_index=True).drop_duplicates(subset=[\"keyword\"])\n",
    "\n",
    "df_all.to_csv(\"/Users/yxy/UChi/Summer2025/Procurement/dta/keywords_with_cat.csv\", index=False)\n"
   ]
  },
  {
   "cell_type": "code",
   "execution_count": 193,
   "id": "2831a77b",
   "metadata": {},
   "outputs": [],
   "source": [
    "import pandas as pd\n",
    "import jieba\n",
    "import re\n",
    "import numpy as np\n",
    "\n",
    "\n",
    "kw_df = pd.read_csv(\"/Users/yxy/UChi/Summer2025/Procurement/dta/keywords_with_cat.csv\")\n",
    "\n",
    "def clean_text(text):\n",
    "    if not isinstance(text, str):\n",
    "        return \"\"\n",
    "    return re.sub(r\"[^\\u4e00-\\u9fa50-9]\", \"\", text)\n",
    "\n",
    "def match_cat_from_text(text, kw_df):\n",
    "    kw_df = kw_df.rename(columns={\"category\": \"cat\"})\n",
    "    text = clean_text(text)\n",
    "    if not text:\n",
    "        return None\n",
    "    words = jieba.lcut(text)\n",
    "    for w in words:\n",
    "        if w == \"项目\":\n",
    "            continue\n",
    "        match = kw_df[kw_df[\"keyword\"].str.contains(w, na=False)]\n",
    "        if not match.empty:\n",
    "            valid = match[match[\"cat\"] != \"无分类\"]\n",
    "            if not valid.empty:\n",
    "                return valid[\"cat\"].iloc[0]\n",
    "    return None\n",
    "\n",
    "\n",
    "def assign_cat(row, kw_df):\n",
    "    for col in [\"主要标的名称\", \"项目名称\"]:\n",
    "        text = row.get(col, \"\")\n",
    "        cat = match_cat_from_text(text, kw_df)\n",
    "        if cat is not None:\n",
    "            return cat\n",
    "    return None\n",
    "\n"
   ]
  },
  {
   "cell_type": "code",
   "execution_count": 194,
   "id": "9c9cd705",
   "metadata": {},
   "outputs": [],
   "source": [
    "mask = df_filtered[\"cat\"].isna() | (df_filtered[\"cat\"] == \"无分类\")\n",
    "\n",
    "df_filtered.loc[mask, \"cat\"] = df_filtered.loc[mask].apply(\n",
    "    lambda x: assign_cat(x, kw_df), axis=1\n",
    ")\n"
   ]
  },
  {
   "cell_type": "code",
   "execution_count": 195,
   "id": "62e32269",
   "metadata": {},
   "outputs": [
    {
     "data": {
      "text/plain": [
       "cat\n",
       "服务      223084\n",
       "货物      187459\n",
       "工程      100660\n",
       "None     28657\n",
       "Name: count, dtype: int64"
      ]
     },
     "execution_count": 195,
     "metadata": {},
     "output_type": "execute_result"
    }
   ],
   "source": [
    "df_filtered['cat'].value_counts(dropna=False)"
   ]
  },
  {
   "cell_type": "code",
   "execution_count": null,
   "id": "a4d0cb65",
   "metadata": {},
   "outputs": [],
   "source": [
    "df_unmatched = df_filtered[df_filtered['cat'].isna()]\n",
    "df_unmatched.sample(10)"
   ]
  },
  {
   "cell_type": "markdown",
   "id": "7fedf5ec",
   "metadata": {},
   "source": [
    "## 采购方式"
   ]
  },
  {
   "cell_type": "code",
   "execution_count": null,
   "id": "16490360",
   "metadata": {},
   "outputs": [],
   "source": [
    "methodlist = [\"公开招标\", \"协议供货\", \"单一来源\", \"定点采购\", \n",
    "    \"电子卖场\", \"竞争性磋商\", \"竞争性谈判\", \"询价\", \"邀请招标\"]"
   ]
  },
  {
   "cell_type": "code",
   "execution_count": 219,
   "id": "334ec3fd",
   "metadata": {},
   "outputs": [],
   "source": [
    "df_filtered = pd.read_csv(\"/Users/yxy/UChi/Summer2025/Procurement/dta/china_procurement_primary.csv\", low_memory=False)"
   ]
  },
  {
   "cell_type": "code",
   "execution_count": 233,
   "id": "3ebfa090",
   "metadata": {},
   "outputs": [
    {
     "name": "stdout",
     "output_type": "stream",
     "text": [
      "row count not in methodlist: 100093\n",
      "ratio: 0.1854054754936465\n",
      "采购方式\n",
      "规格型号（或服务要求）服务要求包括图书出版年限、图书范围、与到货率、图书仓储及现场采购保障、到货验收、交货要求、时间要求及货源要求（具体要求详见合同）。                                                                         2\n",
      "清华大学低温超导磁铁系统（更正）                                                                                                                                     1\n",
      "主要标的名称采购计划编号 2023NCZ001016                                                                                                                           1\n",
      "规格型号（或服务要求）根据和使用方的要求，完成阳江江城海事工作船码头后期竣工验收等项目。                                                                                                         1\n",
      "Delta4 升级（带TOMO容积调强验证功能）（合同公告更正）                                                                                                                     1\n",
      "主要标的名称本次项目通过公开确定一家供应商，服务期限1年，为采购人提供医院合群门诊、东川门诊、急诊、介入导管室、供应室、药学部、协和等医疗输送、勤杂服务。                                                                        1\n",
      "主要标的名称我院放射科MRI和3台DR的保修期陆续于2021年5月、7月、8月到期（其中1台DR在2022年4月到期），该4台设备是我院放射科检查重要设备之一。为使设备正常运行，不因停机耽误病人检查，并节省设备维保成本，我院拟通过政府购买放射科4台设备三年全保服务，资金投入不超过216万元    1\n",
      "清华大学脉冲激光器采购项目【更正】                                                                                                                                    1\n",
      "主要标的名称本项目的为订购，采购范围为2022年出版的国内版中文邮发期刊。                                                                                                                1\n",
      "0702-20412W042（更正）                                                                                                                                   1\n",
      "同江市2022年美丽宜居示范村项目通过政府聘请工程实施方案（初步设计、概算）、实施方案评审、工程造价、监理、第三方验收公司                                                                                        1\n",
      "主要标的名称佛山市老年干部大学2023年度开设声乐班、书法班等65个教学班、提供2500多个学位。为更好完成教学管理服务工作，需要通过政府，向社会机构购买教务辅助服务，协助学校开展市直老干部及中心城区老年人学习教育工作。                                       1\n",
      "主要标的名称通过框架协议征集造价咨询机构（工程造价咨询公司），提供乌海市财政性投资评审项目咨询服务。                                                                                                   1\n",
      "规格型号（或服务要求）根据《北京市基层公共图书馆考核标准》对服务能效、业务建设、以及保障条件等服务指标要求，结合牛街街道公共图书馆服务自身发展规划，拟通过磋商确定运营服务供应商。                                                            1\n",
      "BXZC200610（2）（更正）                                                                                                                                    1\n",
      "0702-20412W032（更正）                                                                                                                                   1\n",
      "履约期限、地点等简要信息签订合同后30日内或按要求时间送货                                                                                                                        1\n",
      "Name: count, dtype: int64\n"
     ]
    }
   ],
   "source": [
    "methodlist = [\n",
    "    \"公开招标\", \"协议供货\", \"单一来源\", \"定点采购\",\n",
    "    \"电子卖场\", \"竞争性磋商\", \"竞争性谈判\", \"询价\", \"邀请招标\"\n",
    "]\n",
    "\n",
    "not_in_list = df_filtered.loc[~df_filtered[\"采购方式\"].isin(methodlist)]\n",
    "\n",
    "print(\"row count not in methodlist:\", len(not_in_list))\n",
    "print(\"ratio:\", len(not_in_list) / len(df_filtered))\n",
    "\n",
    "print(not_in_list[\"采购方式\"].value_counts().head(100))\n"
   ]
  },
  {
   "cell_type": "code",
   "execution_count": 232,
   "id": "7193d936",
   "metadata": {},
   "outputs": [],
   "source": [
    "def clean_method(method: str, methodlist):\n",
    "    if not isinstance(method, str):\n",
    "        return None\n",
    "    for m in methodlist:\n",
    "        if m in method:  \n",
    "            return m\n",
    "    return method  \n",
    "\n",
    "methodlist = [\"公开招标\", \"协议供货\", \"单一来源\", \"定点采购\",\n",
    "              \"电子卖场\", \"竞争性磋商\", \"竞争性谈判\", \"询价\", \"邀请招标\"]\n",
    "\n",
    "mask = ~df_filtered[\"采购方式\"].isin(methodlist)\n",
    "\n",
    "df_filtered.loc[mask, \"采购方式\"] = df_filtered.loc[mask, \"采购方式\"].apply(\n",
    "    lambda x: clean_method(x, methodlist)\n",
    ")\n"
   ]
  },
  {
   "cell_type": "code",
   "execution_count": 234,
   "id": "ec84d80a",
   "metadata": {},
   "outputs": [
    {
     "name": "stdout",
     "output_type": "stream",
     "text": [
      "<class 'pandas.core.frame.DataFrame'>\n",
      "RangeIndex: 539860 entries, 0 to 539859\n",
      "Data columns (total 27 columns):\n",
      " #   Column       Non-Null Count   Dtype  \n",
      "---  ------       --------------   -----  \n",
      " 0   合同编号         539792 non-null  object \n",
      " 1   项目编号         536972 non-null  object \n",
      " 2   项目名称         539858 non-null  object \n",
      " 3   采购人甲方        539857 non-null  object \n",
      " 4   采购人地址        539860 non-null  object \n",
      " 5   采购人联系方式      539836 non-null  object \n",
      " 6   供应商乙方        539859 non-null  object \n",
      " 7   供应商地址        539851 non-null  object \n",
      " 8   供应商联系方式      539831 non-null  object \n",
      " 9   主要标的名称       539853 non-null  object \n",
      " 10  规格型号或服务要求    539818 non-null  object \n",
      " 11  主要标的数量       539853 non-null  object \n",
      " 12  主要标的单价       539852 non-null  object \n",
      " 13  合同金额万元       539860 non-null  float64\n",
      " 14  履约期限地点等简要信息  537838 non-null  object \n",
      " 15  采购方式         439785 non-null  object \n",
      " 16  合同签订日期       539813 non-null  object \n",
      " 17  合同公告日期       539860 non-null  object \n",
      " 18  年份           539860 non-null  int64  \n",
      " 19  amount       539860 non-null  float64\n",
      " 20  num_goods    171690 non-null  float64\n",
      " 21  price_goods  197657 non-null  float64\n",
      " 22  prov         211985 non-null  object \n",
      " 23  city         379538 non-null  object \n",
      " 24  county       417809 non-null  object \n",
      " 25  region       539860 non-null  object \n",
      " 26  cat          511203 non-null  object \n",
      "dtypes: float64(4), int64(1), object(22)\n",
      "memory usage: 111.2+ MB\n"
     ]
    }
   ],
   "source": [
    "df_filtered.info()"
   ]
  },
  {
   "cell_type": "code",
   "execution_count": 235,
   "id": "124f1642",
   "metadata": {},
   "outputs": [],
   "source": [
    "df_filtered.to_csv(\"/Users/yxy/UChi/Summer2025/Procurement/dta/china_procurement_primary.csv\", index=False, encoding=\"utf-8-sig\")\n",
    "\n",
    "df_filtered_2cat = df_filtered[df_filtered[\"cat\"].isin([\"服务\", \"货物\"])]\n",
    "df_filtered_2cat.to_csv(\"/Users/yxy/UChi/Summer2025/Procurement/dta/china_procurement_2cat.csv\", index=False, encoding=\"utf-8-sig\")"
   ]
  },
  {
   "cell_type": "markdown",
   "id": "ee2da91d",
   "metadata": {},
   "source": [
    "## policy threshold"
   ]
  },
  {
   "cell_type": "code",
   "execution_count": 102,
   "id": "2e5e4f4f",
   "metadata": {},
   "outputs": [],
   "source": [
    "import pandas as pd\n",
    "\n",
    "\n",
    "df = pd.read_excel(\n",
    "    \"/Users/yxy/UChi/Summer2025/Procurement/raw/China_Procurement_Thresholds_2014_2024.xlsx\"\n",
    ")\n",
    "\n",
    "df = df[[\"prov\", \"year\", \"cat\", \"threshold\"]]\n",
    "\n",
    "years = list(range(2020, 2025))\n",
    "records = []\n",
    "\n",
    "for prov, g1 in df.groupby(\"prov\"):\n",
    "    for cat, g2 in g1.groupby(\"cat\"):\n",
    "        g2 = g2.sort_values(\"year\")\n",
    "        min_year, max_year = g2[\"year\"].min(), g2[\"year\"].max()\n",
    "        min_thr = g2.loc[g2[\"year\"] == min_year, \"threshold\"].iloc[0]\n",
    "        max_thr = g2.loc[g2[\"year\"] == max_year, \"threshold\"].iloc[0]\n",
    "        vals = []\n",
    "        for y in years:\n",
    "            if y <= min_year:\n",
    "                thr = min_thr\n",
    "            elif y >= max_year:\n",
    "                thr = max_thr\n",
    "            else:\n",
    "                thr = g2[g2[\"year\"] <= y].iloc[-1][\"threshold\"]\n",
    "            vals.append(thr)\n",
    "            records.append([prov, cat, y, thr, None]) \n",
    "        change_flag = int(len(set(vals)) > 1)\n",
    "\n",
    "        for i in range(len(years)):\n",
    "            records[-len(years) + i][4] = change_flag\n",
    "\n",
    "threshold = pd.DataFrame(records, columns=[\"prov\", \"cat\", \"year\", \"threshold\", \"changed\"])\n",
    "\n",
    "threshold.to_csv(\n",
    "    \"/Users/yxy/UChi/Summer2025/Procurement/dta/threshold.csv\",\n",
    "    index=False,\n",
    "    encoding=\"utf-8-sig\"\n",
    ")\n"
   ]
  },
  {
   "cell_type": "code",
   "execution_count": 103,
   "id": "e03a5a26",
   "metadata": {},
   "outputs": [
    {
     "data": {
      "text/plain": [
       "np.int64(60)"
      ]
     },
     "execution_count": 103,
     "metadata": {},
     "output_type": "execute_result"
    }
   ],
   "source": [
    "threshold['changed'].sum()"
   ]
  },
  {
   "cell_type": "code",
   "execution_count": 202,
   "id": "fe40eb42",
   "metadata": {},
   "outputs": [
    {
     "data": {
      "text/plain": [
       "主要标的名称\n",
       "物业管理服务       22234\n",
       "详见附件          4731\n",
       "详见合同          3950\n",
       "其他服务          2894\n",
       "物业服务          1928\n",
       "无无            1501\n",
       "安全服务          1438\n",
       "触控一体机         1238\n",
       "其他不另分类的物品     1123\n",
       "台式计算机         1103\n",
       "保安服务          1094\n",
       "无              978\n",
       "详见合同文本。        918\n",
       "空调机            639\n",
       "电梯             631\n",
       "服务             629\n",
       "LED显示屏         623\n",
       "详见合同附件         618\n",
       "见附件            603\n",
       "审计服务           502\n",
       "Name: count, dtype: int64"
      ]
     },
     "execution_count": 202,
     "metadata": {},
     "output_type": "execute_result"
    }
   ],
   "source": [
    "df = pd.read_csv(\"/Users/yxy/UChi/Summer2025/Procurement/dta/china_procurement_2cat.csv\", low_memory=False)\n",
    "df['主要标的名称'].value_counts().head(20)"
   ]
  }
 ],
 "metadata": {
  "language_info": {
   "name": "python"
  }
 },
 "nbformat": 4,
 "nbformat_minor": 5
}
